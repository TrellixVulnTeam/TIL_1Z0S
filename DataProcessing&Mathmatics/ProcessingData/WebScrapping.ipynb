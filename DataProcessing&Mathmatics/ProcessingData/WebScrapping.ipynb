{
 "cells": [
  {
   "cell_type": "markdown",
   "metadata": {},
   "source": [
    "# 간단한 웹스크랩핑"
   ]
  },
  {
   "cell_type": "code",
   "execution_count": 20,
   "metadata": {},
   "outputs": [],
   "source": [
    "import numpy as np\n",
    "import pandas as pd\n",
    "import urllib.request as req"
   ]
  },
  {
   "cell_type": "code",
   "execution_count": 21,
   "metadata": {},
   "outputs": [],
   "source": [
    "# 파일 URL\n",
    "\n",
    "img_url = \"https://optimal.inven.co.kr/upload/2017/12/21/bbs/i13736771352.gif\"\n",
    "html_url = \"https://www.google.co.kr\"\n",
    "\n",
    "# 다운받을 경로\n",
    "save_path1 = \"C:/Users/hieun/test1.jpg\"\n",
    "save_path2 = \"C:/Users/hieun/index.html\""
   ]
  },
  {
   "cell_type": "code",
   "execution_count": 22,
   "metadata": {},
   "outputs": [
    {
     "name": "stdout",
     "output_type": "stream",
     "text": [
      "Filename1 C:/Users/hieun/test1.jpg\n",
      "Filename2 C:/Users/hieun/index.html\n",
      "\n",
      "Download Succeed.\n"
     ]
    }
   ],
   "source": [
    "# 예외 처리\n",
    "try:\n",
    "    file1, header1 = req.urlretrieve(img_url, save_path1)\n",
    "    file2, header2 = req.urlretrieve(html_url, save_path2)\n",
    "except Exception as e:\n",
    "    print(\"Download failed.\")\n",
    "    print(e)\n",
    "else:\n",
    "    # Header 정보 출력\n",
    "    #print(header1)\n",
    "    #print(header2)\n",
    "    \n",
    "    # 다운로드 파일 정보\n",
    "    print(\"Filename1 {}\".format(file1))\n",
    "    print(\"Filename2 {}\".format(file2))\n",
    "    print()\n",
    "    \n",
    "    # 성공\n",
    "    print(\"Download Succeed.\")"
   ]
  },
  {
   "cell_type": "code",
   "execution_count": 24,
   "metadata": {},
   "outputs": [],
   "source": [
    "# 파일 URL\n",
    "\n",
    "img_url = \"https://m1.daumcdn.net/cfile240/image/99CC42335BAC8F990D3317\"\n",
    "html_url = \"https://m.blog.daum.net/factruth/3243?np_nil_b=1\"\n",
    "\n",
    "# 다운받을 경로\n",
    "save_path1 = \"C:/Users/hieun/test2.gif\"\n",
    "save_path2 = \"C:/Users/hieun/index2.html\""
   ]
  },
  {
   "cell_type": "code",
   "execution_count": 25,
   "metadata": {},
   "outputs": [
    {
     "name": "stdout",
     "output_type": "stream",
     "text": [
      "Download failed.\n",
      "<urlopen error [WinError 10061] 대상 컴퓨터에서 연결을 거부했으므로 연결하지 못했습니다>\n"
     ]
    }
   ],
   "source": [
    "try:\n",
    "    file1, header1 = req.urlretrieve(img_url, save_path1)\n",
    "    file2, header2 = req.urlretrieve(html_url, save_path2)\n",
    "except Exception as e:\n",
    "    print(\"Download failed.\")\n",
    "    print(e)\n",
    "else:\n",
    "    # Header 정보 출력\n",
    "    #print(header1)\n",
    "    #print(header2)\n",
    "    \n",
    "    # 다운로드 파일 정보\n",
    "    print(\"Filename1 {}\".format(file1))\n",
    "    print(\"Filename2 {}\".format(file2))\n",
    "    print()\n",
    "    \n",
    "    # 성공\n",
    "    print(\"Download Succeed.\")"
   ]
  },
  {
   "cell_type": "code",
   "execution_count": null,
   "metadata": {},
   "outputs": [],
   "source": []
  }
 ],
 "metadata": {
  "kernelspec": {
   "display_name": "Python 3",
   "language": "python",
   "name": "python3"
  },
  "language_info": {
   "codemirror_mode": {
    "name": "ipython",
    "version": 3
   },
   "file_extension": ".py",
   "mimetype": "text/x-python",
   "name": "python",
   "nbconvert_exporter": "python",
   "pygments_lexer": "ipython3",
   "version": "3.7.3"
  }
 },
 "nbformat": 4,
 "nbformat_minor": 2
}
