{
 "cells": [
  {
   "cell_type": "markdown",
   "metadata": {},
   "source": [
    "#  Latent Factor 모형 (PCA와 Latent Factor 모형)"
   ]
  },
  {
   "cell_type": "markdown",
   "metadata": {},
   "source": [
    "Latent Factor 모형은 복잡한 사용자/영화 특성을 몇 개의 벡터로 간략화해보겠다는 모형<br>\n",
    "평점을 사용자 요인 행렬, 별점 요인 행렬의 곱으로 이루어진 행렬로 보고, SVD등과 같은 방식으로 평점 예측<br>\n",
    "어떤 특징?<br>\n",
    "특정한 장르를 가진 영화 (예, 코미디, 액션, 드라마)에 대한 사용자 선호도<br>\n",
    "사용자 요인 벡터 (예: 코미디(1), 액션(-3), 드라마(3))<br>\n",
    "영화 장르 요소 (예: 코미디(1), 액션(3), 드라마(3))<br>\n"
   ]
  },
  {
   "cell_type": "code",
   "execution_count": 1,
   "metadata": {},
   "outputs": [],
   "source": [
    "#PCA는 차원을 축소하되, 전형적인 특징을 구하는 것¶"
   ]
  },
  {
   "cell_type": "code",
   "execution_count": 2,
   "metadata": {},
   "outputs": [],
   "source": [
    "import numpy as np\n",
    "from numpy import linalg as la"
   ]
  },
  {
   "cell_type": "code",
   "execution_count": 3,
   "metadata": {},
   "outputs": [],
   "source": [
    "user, item = 5, 3\n",
    "X = np.random.rand(user, item)"
   ]
  },
  {
   "cell_type": "code",
   "execution_count": 4,
   "metadata": {},
   "outputs": [
    {
     "data": {
      "text/plain": [
       "array([[0.45576024, 0.85987623, 0.20338675],\n",
       "       [0.188475  , 0.53533264, 0.11805839],\n",
       "       [0.39010448, 0.23326821, 0.99165315],\n",
       "       [0.13186816, 0.23455482, 0.65834147],\n",
       "       [0.88851688, 0.36743842, 0.15361506]])"
      ]
     },
     "execution_count": 4,
     "metadata": {},
     "output_type": "execute_result"
    }
   ],
   "source": [
    "X"
   ]
  },
  {
   "cell_type": "code",
   "execution_count": 5,
   "metadata": {},
   "outputs": [
    {
     "data": {
      "text/plain": [
       "array([0.41094495, 0.44609406, 0.42501097])"
      ]
     },
     "execution_count": 5,
     "metadata": {},
     "output_type": "execute_result"
    }
   ],
   "source": [
    "np.mean(X, axis=0)"
   ]
  },
  {
   "cell_type": "code",
   "execution_count": 9,
   "metadata": {},
   "outputs": [
    {
     "data": {
      "text/plain": [
       "(array([0.19783644, 0.08103821, 0.0275812 ]),\n",
       " array([[ 0.31172042,  0.92104406,  0.23346996],\n",
       "        [ 0.44928242, -0.35938506,  0.81791667],\n",
       "        [-0.83724291,  0.15006738,  0.52583656]]))"
      ]
     },
     "execution_count": 9,
     "metadata": {},
     "output_type": "execute_result"
    }
   ],
   "source": [
    "C = np.cov(X, rowvar=False)\n",
    "\n",
    "\n",
    "# eigenvalue 구하기\n",
    "\n",
    "l, principal_axes = la.eig(C)\n",
    "\n",
    "\n",
    "l, principal_axes"
   ]
  },
  {
   "cell_type": "code",
   "execution_count": 10,
   "metadata": {},
   "outputs": [],
   "source": [
    "idx = l.argsort()[::-1]\n",
    "l, principal_axes = l[idx], principal_axes[:, idx]"
   ]
  },
  {
   "cell_type": "code",
   "execution_count": 11,
   "metadata": {},
   "outputs": [
    {
     "data": {
      "text/plain": [
       "array([0.19783644, 0.08103821, 0.0275812 ])"
      ]
     },
     "execution_count": 11,
     "metadata": {},
     "output_type": "execute_result"
    }
   ],
   "source": [
    "# l은 eigenvalue\n",
    "\n",
    "l"
   ]
  },
  {
   "cell_type": "code",
   "execution_count": 13,
   "metadata": {},
   "outputs": [
    {
     "data": {
      "text/plain": [
       "array([[ 0.31172042,  0.92104406,  0.23346996],\n",
       "       [ 0.44928242, -0.35938506,  0.81791667],\n",
       "       [-0.83724291,  0.15006738,  0.52583656]])"
      ]
     },
     "execution_count": 13,
     "metadata": {},
     "output_type": "execute_result"
    }
   ],
   "source": [
    "#  principal_axes 고유벡터\n",
    "principal_axes"
   ]
  },
  {
   "cell_type": "code",
   "execution_count": 15,
   "metadata": {},
   "outputs": [
    {
     "data": {
      "text/plain": [
       "array([[ 0.31172042,  0.92104406],\n",
       "       [ 0.44928242, -0.35938506],\n",
       "       [-0.83724291,  0.15006738]])"
      ]
     },
     "execution_count": 15,
     "metadata": {},
     "output_type": "execute_result"
    }
   ],
   "source": [
    "# 차원축소\n",
    "\n",
    "principal_axes[:, :2]"
   ]
  },
  {
   "cell_type": "code",
   "execution_count": 17,
   "metadata": {},
   "outputs": [
    {
     "data": {
      "text/plain": [
       "array([[ 0.35811294,  0.14127031,  0.91666162],\n",
       "       [ 0.20042349, -0.00108006,  0.54394016],\n",
       "       [-0.60384773,  0.42428509,  0.80331912],\n",
       "       [-0.40470438,  0.13595647,  0.56881357],\n",
       "       [ 0.31343935,  0.70936392,  0.58875242]])"
      ]
     },
     "execution_count": 17,
     "metadata": {},
     "output_type": "execute_result"
    }
   ],
   "source": [
    "# 특정벡터추출\n",
    "\n",
    "principal_components = X.dot(principal_axes)\n",
    "\n",
    "principal_components"
   ]
  },
  {
   "cell_type": "code",
   "execution_count": null,
   "metadata": {},
   "outputs": [],
   "source": []
  }
 ],
 "metadata": {
  "kernelspec": {
   "display_name": "Python 3",
   "language": "python",
   "name": "python3"
  },
  "language_info": {
   "codemirror_mode": {
    "name": "ipython",
    "version": 3
   },
   "file_extension": ".py",
   "mimetype": "text/x-python",
   "name": "python",
   "nbconvert_exporter": "python",
   "pygments_lexer": "ipython3",
   "version": "3.7.3"
  }
 },
 "nbformat": 4,
 "nbformat_minor": 2
}
