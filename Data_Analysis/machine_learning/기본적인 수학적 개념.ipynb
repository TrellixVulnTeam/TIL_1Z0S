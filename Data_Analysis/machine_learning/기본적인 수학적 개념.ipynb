{
 "cells": [
  {
   "cell_type": "markdown",
   "metadata": {},
   "source": [
    "# 통계 : 불확실성을 모델링 하는 기본 방법\n"
   ]
  },
  {
   "cell_type": "code",
   "execution_count": 1,
   "metadata": {},
   "outputs": [],
   "source": [
    "import matplotlib.pyplot as plt"
   ]
  },
  {
   "cell_type": "code",
   "execution_count": 3,
   "metadata": {},
   "outputs": [
    {
     "data": {
      "text/plain": [
       "[<matplotlib.lines.Line2D at 0x12ddfd0>]"
      ]
     },
     "execution_count": 3,
     "metadata": {},
     "output_type": "execute_result"
    },
    {
     "data": {
      "image/png": "[encoded data removed]",
      "text/plain": [
       "<Figure size 432x288 with 1 Axes>"
      ]
     },
     "metadata": {
      "needs_background": "light"
     },
     "output_type": "display_data"
    }
   ],
   "source": [
    "def mean(sampleset):\n",
    "    total=0\n",
    "    for element in sampleset:\n",
    "        total+=element\n",
    "    return total/len(sampleset) \n",
    "\n",
    "myset=[-1,2,3,4,5,6,2]\n",
    "mymean=mean(myset)\n",
    "\n",
    "plt.plot(myset) # 데이터셋의 플롯\n",
    "plt.plot([mymean]*7) # 평균에 존재하는 7개점으로 이루어진 선을 플롯하라\n",
    "        "
   ]
  },
  {
   "cell_type": "code",
   "execution_count": 4,
   "metadata": {},
   "outputs": [
    {
     "name": "stdout",
     "output_type": "stream",
     "text": [
      "8.693877551020408\n",
      "3070.6400000000003\n"
     ]
    }
   ],
   "source": [
    "# 분산 : 평균에서 얼마나 먼지를 알 수 있는 값\n",
    "\n",
    "import math\n",
    "def variance(sampleset):\n",
    "    total=0\n",
    "    setmean=mean(sampleset)\n",
    "    for element in sampleset:\n",
    "        total=total+(math.pow(element-setmean,2))\n",
    "    return total/len(sampleset)\n",
    "\n",
    "myset1=[2,10,3,6,4,6,10]\n",
    "myset2=[1,-100,15,-100,21]\n",
    "\n",
    "print(variance(myset1))\n",
    "print(variance(myset2))"
   ]
  },
  {
   "cell_type": "code",
   "execution_count": 5,
   "metadata": {},
   "outputs": [],
   "source": [
    "#표준편차: 이는 단순히 분산에 사용된 평균제곱에서 제곱특성을 정규화해 효과적으로 선형화할 수 있는 방법\n"
   ]
  },
  {
   "cell_type": "markdown",
   "metadata": {},
   "source": [
    "확률 및 확률변수"
   ]
  },
  {
   "cell_type": "markdown",
   "metadata": {},
   "source": [
    "<용어정리>\n",
    "\n",
    "1. 사건 ;모든 결과의 일부 세트를 의미\n",
    "2. 확률 ; 사건의 발생 가능성을 수치화\n",
    "3. 확률변수 및 분포 :<br> \n",
    "- 확률함수 : 사건의 결과값 각각에 대한 값을 갖는 확률변수\n",
    "\n",
    "\n"
   ]
  },
  {
   "cell_type": "markdown",
   "metadata": {},
   "source": [
    "베르누이분포\n",
    ":p의 확률로 1을 갖고 1-p의 확률로 0을 갖는 변수가 0,1인 이진의 결과를 갖는 분포를 의미한다"
   ]
  },
  {
   "cell_type": "code",
   "execution_count": 8,
   "metadata": {},
   "outputs": [
    {
     "data": {
      "text/plain": [
       "(array([0.40086, 0.59914]), array([0., 1., 2.]), <a list of 2 Patch objects>)"
      ]
     },
     "execution_count": 8,
     "metadata": {},
     "output_type": "execute_result"
    },
    {
     "data": {
      "image/png": "[encoded data removed]",
      "text/plain": [
       "<Figure size 432x288 with 1 Axes>"
      ]
     },
     "metadata": {
      "needs_background": "light"
     },
     "output_type": "display_data"
    }
   ],
   "source": [
    "import numpy as np\n",
    "plt.figure()\n",
    "distro=np.random.binomial(1,0.6,100000)/0.5\n",
    "plt.hist(distro,2,normed=1)"
   ]
  },
  {
   "cell_type": "markdown",
   "metadata": {},
   "source": [
    "다항분포"
   ]
  },
  {
   "cell_type": "code",
   "execution_count": 11,
   "metadata": {},
   "outputs": [
    {
     "data": {
      "text/plain": [
       "(array([2.56410256e-07, 0.00000000e+00, 7.69230769e-07, 0.00000000e+00,\n",
       "        0.00000000e+00, 2.56410256e-06, 0.00000000e+00, 6.41025641e-06,\n",
       "        0.00000000e+00, 0.00000000e+00, 9.74358974e-06, 0.00000000e+00,\n",
       "        2.56410256e-05, 0.00000000e+00, 0.00000000e+00, 3.56410256e-05,\n",
       "        0.00000000e+00, 6.79487179e-05, 0.00000000e+00, 0.00000000e+00,\n",
       "        1.11794872e-04, 0.00000000e+00, 0.00000000e+00, 1.70000000e-04,\n",
       "        0.00000000e+00, 2.63076923e-04, 0.00000000e+00, 0.00000000e+00,\n",
       "        4.00256410e-04, 0.00000000e+00, 5.46410256e-04, 0.00000000e+00,\n",
       "        0.00000000e+00, 7.46153846e-04, 0.00000000e+00, 9.58717949e-04,\n",
       "        0.00000000e+00, 0.00000000e+00, 1.22641026e-03, 0.00000000e+00,\n",
       "        0.00000000e+00, 1.46948718e-03, 0.00000000e+00, 1.71512821e-03,\n",
       "        0.00000000e+00, 0.00000000e+00, 1.90974359e-03, 0.00000000e+00,\n",
       "        1.98051282e-03, 0.00000000e+00, 0.00000000e+00, 2.05307692e-03,\n",
       "        0.00000000e+00, 2.03179487e-03, 0.00000000e+00, 0.00000000e+00,\n",
       "        1.96051282e-03, 0.00000000e+00, 1.72487179e-03, 0.00000000e+00,\n",
       "        0.00000000e+00, 1.53179487e-03, 0.00000000e+00, 0.00000000e+00,\n",
       "        1.27794872e-03, 0.00000000e+00, 1.02000000e-03, 0.00000000e+00,\n",
       "        0.00000000e+00, 7.73589744e-04, 0.00000000e+00, 5.58461538e-04,\n",
       "        0.00000000e+00, 0.00000000e+00, 4.03076923e-04, 0.00000000e+00,\n",
       "        2.69230769e-04, 0.00000000e+00, 0.00000000e+00, 1.67692308e-04,\n",
       "        0.00000000e+00, 0.00000000e+00, 1.07179487e-04, 0.00000000e+00,\n",
       "        5.46153846e-05, 0.00000000e+00, 0.00000000e+00, 3.07692308e-05,\n",
       "        0.00000000e+00, 1.82051282e-05, 0.00000000e+00, 0.00000000e+00,\n",
       "        6.15384615e-06, 0.00000000e+00, 2.56410256e-06, 0.00000000e+00,\n",
       "        0.00000000e+00, 1.53846154e-06, 0.00000000e+00, 1.28205128e-06]),\n",
       " array([4000., 4039., 4078., 4117., 4156., 4195., 4234., 4273., 4312.,\n",
       "        4351., 4390., 4429., 4468., 4507., 4546., 4585., 4624., 4663.,\n",
       "        4702., 4741., 4780., 4819., 4858., 4897., 4936., 4975., 5014.,\n",
       "        5053., 5092., 5131., 5170., 5209., 5248., 5287., 5326., 5365.,\n",
       "        5404., 5443., 5482., 5521., 5560., 5599., 5638., 5677., 5716.,\n",
       "        5755., 5794., 5833., 5872., 5911., 5950., 5989., 6028., 6067.,\n",
       "        6106., 6145., 6184., 6223., 6262., 6301., 6340., 6379., 6418.,\n",
       "        6457., 6496., 6535., 6574., 6613., 6652., 6691., 6730., 6769.,\n",
       "        6808., 6847., 6886., 6925., 6964., 7003., 7042., 7081., 7120.,\n",
       "        7159., 7198., 7237., 7276., 7315., 7354., 7393., 7432., 7471.,\n",
       "        7510., 7549., 7588., 7627., 7666., 7705., 7744., 7783., 7822.,\n",
       "        7861., 7900.]),\n",
       " <a list of 100 Patch objects>)"
      ]
     },
     "execution_count": 11,
     "metadata": {},
     "output_type": "execute_result"
    },
    {
     "data": {
      "image/png": "[encoded data removed]",
      "text/plain": [
       "<Figure size 432x288 with 1 Axes>"
      ]
     },
     "metadata": {
      "needs_background": "light"
     },
     "output_type": "display_data"
    }
   ],
   "source": [
    "plt.figure()\n",
    "distro=np.random.binomial(100,0.6,100000)/0.01 #100개의 결과를 갖는 다항분포\n",
    "plt.hist(distro,100,normed=1)"
   ]
  },
  {
   "cell_type": "markdown",
   "metadata": {},
   "source": [
    "균일분포\n",
    ": 매우 일반적인 분포이며, 영역의 모든 구간에서 일정한 값을 갖는다\n",
    "ex> a,b,는 양끝점이며 1로 적분할때 이 확률은 1/b-a의 값을 갖는다"
   ]
  },
  {
   "cell_type": "code",
   "execution_count": 14,
   "metadata": {},
   "outputs": [
    {
     "data": {
      "image/png": "[encoded data removed]",
      "text/plain": [
       "<Figure size 432x288 with 1 Axes>"
      ]
     },
     "metadata": {
      "needs_background": "light"
     },
     "output_type": "display_data"
    }
   ],
   "source": [
    "uniform_low=0.25\n",
    "uniform_high=0.8\n",
    "uniform=np.random.uniform(uniform_low,uniform_high,10000)\n",
    "\n",
    "plt.figure()\n",
    "plt.hist(uniform,50,normed=True)\n",
    "plt.show()"
   ]
  },
  {
   "cell_type": "markdown",
   "metadata": {},
   "source": [
    "정규분포"
   ]
  },
  {
   "cell_type": "code",
   "execution_count": 15,
   "metadata": {},
   "outputs": [
    {
     "data": {
      "image/png": "[encoded data removed]",
      "text/plain": [
       "<Figure size 432x288 with 1 Axes>"
      ]
     },
     "metadata": {
      "needs_background": "light"
     },
     "output_type": "display_data"
    }
   ],
   "source": [
    "mu=0\n",
    "sigma=2\n",
    "distro=np.random.normal(mu,sigma,10000)\n",
    "plt.hist(distro,100,normed=True)\n",
    "plt.show()\n"
   ]
  },
  {
   "cell_type": "markdown",
   "metadata": {},
   "source": [
    "로지스틱분포"
   ]
  },
  {
   "cell_type": "code",
   "execution_count": 18,
   "metadata": {},
   "outputs": [
    {
     "data": {
      "image/png": "[encoded data removed]",
      "text/plain": [
       "<Figure size 432x288 with 1 Axes>"
      ]
     },
     "metadata": {
      "needs_background": "light"
     },
     "output_type": "display_data"
    }
   ],
   "source": [
    "mu=0.5\n",
    "sigma=0.5\n",
    "distro=np.random.logistic(mu,sigma,10000)\n",
    "plt.hist(distro,50,normed=True)\n",
    "plt.show()"
   ]
  },
  {
   "cell_type": "code",
   "execution_count": 22,
   "metadata": {},
   "outputs": [
    {
     "data": {
      "text/plain": [
       "Text(0.5, 0, 'logistic of invere')"
      ]
     },
     "execution_count": 22,
     "metadata": {},
     "output_type": "execute_result"
    },
    {
     "data": {
      "image/png": "[encoded data removed]",
      "text/plain": [
       "<Figure size 432x288 with 1 Axes>"
      ]
     },
     "metadata": {
      "needs_background": "light"
     },
     "output_type": "display_data"
    }
   ],
   "source": [
    "plt.figure()\n",
    "logistic_cumulative=np.random.logistic(mu,sigma,10000)/0.02\n",
    "plt.hist(logistic_cumulative,50,normed=1,cumulative=True)\n",
    "plt.xlabel(\"logistic of invere\")"
   ]
  },
  {
   "cell_type": "markdown",
   "metadata": {},
   "source": [
    "비대칭도 (skewness) : 대칭을 알 수 있는 척도 , 일반적으로 - 이면 오른쪽으로 치우침, + 이면 왼쪽으로 치우침을 의미"
   ]
  },
  {
   "cell_type": "markdown",
   "metadata": {},
   "source": [
    "첨도(kurtosis): 분포의 중시 집중 정도에 대한 아이디어, 중심 영역이 얼마나 급격한지, 함수의 꼬리가 얼마나 분산되어있는지\n",
    "즉, 변수분포에서 뾰족하고 평평한 정도를 의미한"
   ]
  },
  {
   "cell_type": "markdown",
   "metadata": {},
   "source": [
    "미분 "
   ]
  },
  {
   "cell_type": "code",
   "execution_count": 4,
   "metadata": {},
   "outputs": [],
   "source": [
    "def quadratic(var):\n",
    "    return 2*pow(var,2)"
   ]
  },
  {
   "cell_type": "code",
   "execution_count": 5,
   "metadata": {},
   "outputs": [
    {
     "data": {
      "text/plain": [
       "[]"
      ]
     },
     "execution_count": 5,
     "metadata": {},
     "output_type": "execute_result"
    },
    {
     "data": {
      "image/png": "[encoded data removed]",
      "text/plain": [
       "<Figure size 432x288 with 1 Axes>"
      ]
     },
     "metadata": {
      "needs_background": "light"
     },
     "output_type": "display_data"
    }
   ],
   "source": [
    "import numpy as np\n",
    "import matplotlib.pyplot as plt\n",
    "%matplotlib inline\n",
    "\n",
    "x=np.arange(0.,5.,.1)\n",
    "\n",
    "plt.plot(x,quadratic(x))\n",
    "plt.plot([1,4], [quadratic(1), quadratic(4)],  linewidth=2.0)\n",
    "plt.plot([1,4], [quadratic(1), quadratic(1)],  linewidth=3.0, label=\"Change in x\")\n",
    "plt.plot([4,4], [quadratic(1), quadratic(4)],  linewidth=3.0, label=\"Change in y\")\n",
    "\n",
    "plt.legend()\n",
    "plt.plot (x, 10*x -8 )\n",
    "plt.plot()"
   ]
  },
  {
   "cell_type": "markdown",
   "metadata": {},
   "source": [
    "다음의 코드에서는 변화량 x를 점진적으로 줄여서 근사한다"
   ]
  },
  {
   "cell_type": "code",
   "execution_count": 40,
   "metadata": {},
   "outputs": [
    {
     "name": "stdout",
     "output_type": "stream",
     "text": [
      "delta:0.1, estimated_derivative :-0.6181818181818179\n",
      "delta:0.010000000000000002, estimated_derivative :-0.9601980198019802\n",
      "delta:0.0010000000000000002, estimated_derivative :-0.9960019980019986\n",
      "delta:0.00010000000000000002, estimated_derivative :-0.9996000199980004\n",
      "delta:1.0000000000000003e-05, estimated_derivative :-0.9999600001999978\n"
     ]
    }
   ],
   "source": [
    "initial_delta=.1\n",
    "x1=1\n",
    "\n",
    "\n",
    "for power in range(1,6):\n",
    "    delta=pow(initial_delta,power)\n",
    "    derivative_aprox=((quadratic(x1+delta)-quadratic(x1))/(x1+delta)-x1)\n",
    "    print(\"delta:\"+ str(delta)+ \", estimated_derivative :\" +str(derivative_aprox))\n",
    "    "
   ]
  },
  {
   "cell_type": "code",
   "execution_count": null,
   "metadata": {},
   "outputs": [],
   "source": []
  }
 ],
 "metadata": {
  "kernelspec": {
   "display_name": "Python 3",
   "language": "python",
   "name": "python3"
  },
  "language_info": {
   "codemirror_mode": {
    "name": "ipython",
    "version": 3
   },
   "file_extension": ".py",
   "mimetype": "text/x-python",
   "name": "python",
   "nbconvert_exporter": "python",
   "pygments_lexer": "ipython3",
   "version": "3.7.3"
  }
 },
 "nbformat": 4,
 "nbformat_minor": 2
}
