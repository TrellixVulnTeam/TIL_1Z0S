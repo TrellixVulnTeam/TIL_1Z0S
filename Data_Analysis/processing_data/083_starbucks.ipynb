{
 "cells": [
  {
   "cell_type": "markdown",
   "metadata": {},
   "source": [
    "# 스타벅스와 이디야 \n",
    "\n",
    "- 자료 위치 : 소상공인시장진흥공단_상가업소정보_201906\n",
    "- https://www.data.go.kr/dataset/15012005/fileData.do\n",
    "\n",
    "- 뉴스기사 : 스타벅스 '쏠림' vs 이디야 '분산'\n",
    "- http://news.bizwatch.co.kr/article/consumer/2018/01/19/0015"
   ]
  },
  {
   "cell_type": "markdown",
   "metadata": {},
   "source": [
    "# 환경설정"
   ]
  },
  {
   "cell_type": "code",
   "execution_count": 5,
   "metadata": {},
   "outputs": [
    {
     "name": "stdout",
     "output_type": "stream",
     "text": [
      "Malgun Gothic\n"
     ]
    }
   ],
   "source": [
    "import pandas as pd\n",
    "import numpy as np\n",
    "import re\n",
    "\n",
    "# 경고 메세지 없애기\n",
    "import warnings\n",
    "warnings.filterwarnings('ignore')\n",
    "\n",
    "# 시각화 라이브러리 임포트 \n",
    "import matplotlib.pyplot as plt\n",
    "%matplotlib inline\n",
    "\n",
    "import matplotlib.font_manager as fm\n",
    "path = 'C:\\Windows\\Fonts\\malgunbd.ttf'\n",
    "font_name = fm.FontProperties(fname=path).get_name()\n",
    "print(font_name)\n",
    "plt.rc('font', family=font_name)\n",
    "\n",
    "import seaborn as sns\n",
    "\n",
    "# 지도 표현\n",
    "import folium"
   ]
  },
  {
   "cell_type": "code",
   "execution_count": 6,
   "metadata": {},
   "outputs": [
    {
     "data": {
      "text/html": [
       "<div>\n",
       "<style scoped>\n",
       "    .dataframe tbody tr th:only-of-type {\n",
       "        vertical-align: middle;\n",
       "    }\n",
       "\n",
       "    .dataframe tbody tr th {\n",
       "        vertical-align: top;\n",
       "    }\n",
       "\n",
       "    .dataframe thead th {\n",
       "        text-align: right;\n",
       "    }\n",
       "</style>\n",
       "<table border=\"1\" class=\"dataframe\">\n",
       "  <thead>\n",
       "    <tr style=\"text-align: right;\">\n",
       "      <th></th>\n",
       "      <th>상가업소번호</th>\n",
       "      <th>상호명</th>\n",
       "      <th>지점명</th>\n",
       "      <th>상권업종대분류코드</th>\n",
       "      <th>상권업종대분류명</th>\n",
       "      <th>상권업종중분류코드</th>\n",
       "      <th>상권업종중분류명</th>\n",
       "      <th>상권업종소분류코드</th>\n",
       "      <th>상권업종소분류명</th>\n",
       "      <th>표준산업분류코드</th>\n",
       "      <th>...</th>\n",
       "      <th>건물관리번호</th>\n",
       "      <th>건물명</th>\n",
       "      <th>도로명주소</th>\n",
       "      <th>구우편번호</th>\n",
       "      <th>신우편번호</th>\n",
       "      <th>동정보</th>\n",
       "      <th>층정보</th>\n",
       "      <th>호정보</th>\n",
       "      <th>경도</th>\n",
       "      <th>위도</th>\n",
       "    </tr>\n",
       "  </thead>\n",
       "  <tbody>\n",
       "    <tr>\n",
       "      <th>0</th>\n",
       "      <td>19911397</td>\n",
       "      <td>커피빈코리아선릉로93길점</td>\n",
       "      <td>코리아선릉로93길점</td>\n",
       "      <td>Q</td>\n",
       "      <td>음식</td>\n",
       "      <td>Q12</td>\n",
       "      <td>커피점/카페</td>\n",
       "      <td>Q12A01</td>\n",
       "      <td>커피전문점/카페/다방</td>\n",
       "      <td>I56220</td>\n",
       "      <td>...</td>\n",
       "      <td>1168010100106960042022041</td>\n",
       "      <td>NaN</td>\n",
       "      <td>서울특별시 강남구 선릉로93길 6</td>\n",
       "      <td>135080</td>\n",
       "      <td>6149.0</td>\n",
       "      <td>NaN</td>\n",
       "      <td>1</td>\n",
       "      <td>NaN</td>\n",
       "      <td>127.047883</td>\n",
       "      <td>37.505675</td>\n",
       "    </tr>\n",
       "    <tr>\n",
       "      <th>1</th>\n",
       "      <td>19911801</td>\n",
       "      <td>프로포즈</td>\n",
       "      <td>NaN</td>\n",
       "      <td>Q</td>\n",
       "      <td>음식</td>\n",
       "      <td>Q09</td>\n",
       "      <td>유흥주점</td>\n",
       "      <td>Q09A01</td>\n",
       "      <td>호프/맥주</td>\n",
       "      <td>I56219</td>\n",
       "      <td>...</td>\n",
       "      <td>1154510200101620001017748</td>\n",
       "      <td>NaN</td>\n",
       "      <td>서울특별시 금천구 가산로 34-6</td>\n",
       "      <td>153010</td>\n",
       "      <td>8545.0</td>\n",
       "      <td>NaN</td>\n",
       "      <td>1</td>\n",
       "      <td>NaN</td>\n",
       "      <td>126.899220</td>\n",
       "      <td>37.471711</td>\n",
       "    </tr>\n",
       "    <tr>\n",
       "      <th>2</th>\n",
       "      <td>19912201</td>\n",
       "      <td>싱싱커피&amp;토스트</td>\n",
       "      <td>NaN</td>\n",
       "      <td>Q</td>\n",
       "      <td>음식</td>\n",
       "      <td>Q07</td>\n",
       "      <td>패스트푸드</td>\n",
       "      <td>Q07A10</td>\n",
       "      <td>토스트전문</td>\n",
       "      <td>I56192</td>\n",
       "      <td>...</td>\n",
       "      <td>2653010400105780000002037</td>\n",
       "      <td>산업용품유통상가</td>\n",
       "      <td>부산광역시 사상구 괘감로 37</td>\n",
       "      <td>617726</td>\n",
       "      <td>46977.0</td>\n",
       "      <td>NaN</td>\n",
       "      <td>1</td>\n",
       "      <td>26</td>\n",
       "      <td>128.980455</td>\n",
       "      <td>35.159774</td>\n",
       "    </tr>\n",
       "    <tr>\n",
       "      <th>3</th>\n",
       "      <td>19905471</td>\n",
       "      <td>와라와라호프</td>\n",
       "      <td>NaN</td>\n",
       "      <td>Q</td>\n",
       "      <td>음식</td>\n",
       "      <td>Q09</td>\n",
       "      <td>유흥주점</td>\n",
       "      <td>Q09A01</td>\n",
       "      <td>호프/맥주</td>\n",
       "      <td>I56219</td>\n",
       "      <td>...</td>\n",
       "      <td>1168010600106040000014378</td>\n",
       "      <td>대치상가</td>\n",
       "      <td>서울특별시 강남구 남부순환로 2933</td>\n",
       "      <td>135280</td>\n",
       "      <td>6280.0</td>\n",
       "      <td>NaN</td>\n",
       "      <td>1</td>\n",
       "      <td>NaN</td>\n",
       "      <td>127.061026</td>\n",
       "      <td>37.493922</td>\n",
       "    </tr>\n",
       "    <tr>\n",
       "      <th>4</th>\n",
       "      <td>19932756</td>\n",
       "      <td>가락사우나내스낵</td>\n",
       "      <td>NaN</td>\n",
       "      <td>F</td>\n",
       "      <td>생활서비스</td>\n",
       "      <td>F09</td>\n",
       "      <td>대중목욕탕/휴게</td>\n",
       "      <td>F09A02</td>\n",
       "      <td>사우나/증기탕/온천</td>\n",
       "      <td>S96121</td>\n",
       "      <td>...</td>\n",
       "      <td>1171010500102560005010490</td>\n",
       "      <td>NaN</td>\n",
       "      <td>서울특별시 송파구 가락로 71</td>\n",
       "      <td>138846</td>\n",
       "      <td>5690.0</td>\n",
       "      <td>NaN</td>\n",
       "      <td>1</td>\n",
       "      <td>NaN</td>\n",
       "      <td>127.104071</td>\n",
       "      <td>37.500249</td>\n",
       "    </tr>\n",
       "  </tbody>\n",
       "</table>\n",
       "<p>5 rows × 39 columns</p>\n",
       "</div>"
      ],
      "text/plain": [
       "     상가업소번호            상호명         지점명 상권업종대분류코드 상권업종대분류명 상권업종중분류코드  상권업종중분류명  \\\n",
       "0  19911397  커피빈코리아선릉로93길점  코리아선릉로93길점         Q       음식       Q12    커피점/카페   \n",
       "1  19911801           프로포즈         NaN         Q       음식       Q09      유흥주점   \n",
       "2  19912201       싱싱커피&토스트         NaN         Q       음식       Q07     패스트푸드   \n",
       "3  19905471         와라와라호프         NaN         Q       음식       Q09      유흥주점   \n",
       "4  19932756       가락사우나내스낵         NaN         F    생활서비스       F09  대중목욕탕/휴게   \n",
       "\n",
       "  상권업종소분류코드     상권업종소분류명 표준산업분류코드  ...                     건물관리번호       건물명  \\\n",
       "0    Q12A01  커피전문점/카페/다방   I56220  ...  1168010100106960042022041       NaN   \n",
       "1    Q09A01        호프/맥주   I56219  ...  1154510200101620001017748       NaN   \n",
       "2    Q07A10        토스트전문   I56192  ...  2653010400105780000002037  산업용품유통상가   \n",
       "3    Q09A01        호프/맥주   I56219  ...  1168010600106040000014378      대치상가   \n",
       "4    F09A02   사우나/증기탕/온천   S96121  ...  1171010500102560005010490       NaN   \n",
       "\n",
       "                  도로명주소   구우편번호    신우편번호  동정보 층정보  호정보          경도         위도  \n",
       "0    서울특별시 강남구 선릉로93길 6  135080   6149.0  NaN   1  NaN  127.047883  37.505675  \n",
       "1    서울특별시 금천구 가산로 34-6  153010   8545.0  NaN   1  NaN  126.899220  37.471711  \n",
       "2      부산광역시 사상구 괘감로 37  617726  46977.0  NaN   1   26  128.980455  35.159774  \n",
       "3  서울특별시 강남구 남부순환로 2933  135280   6280.0  NaN   1  NaN  127.061026  37.493922  \n",
       "4      서울특별시 송파구 가락로 71  138846   5690.0  NaN   1  NaN  127.104071  37.500249  \n",
       "\n",
       "[5 rows x 39 columns]"
      ]
     },
     "execution_count": 6,
     "metadata": {},
     "output_type": "execute_result"
    }
   ],
   "source": [
    "shop_2019 = pd.read_csv('data/소상공인시장진흥공단_상가업소정보_201906_01.csv')\n",
    "shop_2019.head()"
   ]
  },
  {
   "cell_type": "code",
   "execution_count": null,
   "metadata": {
    "scrolled": true
   },
   "outputs": [],
   "source": [
    "shop_2019.shape"
   ]
  },
  {
   "cell_type": "code",
   "execution_count": null,
   "metadata": {},
   "outputs": [],
   "source": [
    "shop_2019.columns"
   ]
  },
  {
   "cell_type": "code",
   "execution_count": 10,
   "metadata": {},
   "outputs": [
    {
     "data": {
      "text/plain": [
       "(401071, 39)"
      ]
     },
     "execution_count": 10,
     "metadata": {},
     "output_type": "execute_result"
    }
   ],
   "source": [
    "df_seoul = shop_2019.loc[shop_2019['시도명'].str.startswith('서울')].copy()\n",
    "df_seoul.shape"
   ]
  },
  {
   "cell_type": "markdown",
   "metadata": {},
   "source": [
    "## 결측치 확인하기"
   ]
  },
  {
   "cell_type": "code",
   "execution_count": 11,
   "metadata": {},
   "outputs": [
    {
     "data": {
      "text/plain": [
       "상가업소번호            0\n",
       "상호명               0\n",
       "지점명          344270\n",
       "상권업종대분류코드         0\n",
       "상권업종대분류명          0\n",
       "상권업종중분류코드         0\n",
       "상권업종중분류명          0\n",
       "상권업종소분류코드         0\n",
       "상권업종소분류명          0\n",
       "표준산업분류코드      23587\n",
       "표준산업분류명       23587\n",
       "시도코드              0\n",
       "시도명               0\n",
       "시군구코드             0\n",
       "시군구명              0\n",
       "행정동코드             0\n",
       "행정동명              0\n",
       "법정동코드             0\n",
       "법정동명              0\n",
       "지번코드              0\n",
       "대지구분코드            0\n",
       "대지구분명             0\n",
       "지번본번지             0\n",
       "지번부번지         75924\n",
       "지번주소              0\n",
       "도로명코드             0\n",
       "도로명               0\n",
       "건물본번지             0\n",
       "건물부번지        354031\n",
       "건물관리번호            0\n",
       "건물명          205736\n",
       "도로명주소             0\n",
       "구우편번호             0\n",
       "신우편번호             2\n",
       "동정보          369770\n",
       "층정보          125634\n",
       "호정보          343797\n",
       "경도                0\n",
       "위도                0\n",
       "dtype: int64"
      ]
     },
     "execution_count": 11,
     "metadata": {},
     "output_type": "execute_result"
    }
   ],
   "source": [
    "df_seoul.isnull().sum()"
   ]
  },
  {
   "cell_type": "markdown",
   "metadata": {},
   "source": [
    "## 서울에 있는 스타벅스, 이디야 데이타프레임 생성하기 "
   ]
  },
  {
   "cell_type": "code",
   "execution_count": 12,
   "metadata": {},
   "outputs": [
    {
     "data": {
      "text/plain": [
       "(502,)"
      ]
     },
     "execution_count": 12,
     "metadata": {},
     "output_type": "execute_result"
    }
   ],
   "source": [
    "df_seoul.loc[df_seoul['상호명'].str.contains('스타벅스|starbucks|STARBUCKS'), '상호명'].shape"
   ]
  },
  {
   "cell_type": "code",
   "execution_count": 13,
   "metadata": {},
   "outputs": [
    {
     "data": {
      "text/plain": [
       "(501,)"
      ]
     },
     "execution_count": 13,
     "metadata": {},
     "output_type": "execute_result"
    }
   ],
   "source": [
    "df_seoul.loc[df_seoul['상호명'].str.contains('이디야|ediya|EDIYA'), '상호명'].shape"
   ]
  },
  {
   "cell_type": "code",
   "execution_count": 14,
   "metadata": {},
   "outputs": [
    {
     "data": {
      "text/plain": [
       "(1003, 39)"
      ]
     },
     "execution_count": 14,
     "metadata": {},
     "output_type": "execute_result"
    }
   ],
   "source": [
    "df_cafe = df_seoul[df_seoul['상호명'].str.contains('스타벅스|starbucks|STARBUCKS|이디야|ediya|EDIYA')]\n",
    "df_cafe.shape"
   ]
  },
  {
   "cell_type": "code",
   "execution_count": 15,
   "metadata": {},
   "outputs": [
    {
     "data": {
      "text/html": [
       "<div>\n",
       "<style scoped>\n",
       "    .dataframe tbody tr th:only-of-type {\n",
       "        vertical-align: middle;\n",
       "    }\n",
       "\n",
       "    .dataframe tbody tr th {\n",
       "        vertical-align: top;\n",
       "    }\n",
       "\n",
       "    .dataframe thead th {\n",
       "        text-align: right;\n",
       "    }\n",
       "</style>\n",
       "<table border=\"1\" class=\"dataframe\">\n",
       "  <thead>\n",
       "    <tr style=\"text-align: right;\">\n",
       "      <th></th>\n",
       "      <th>상가업소번호</th>\n",
       "      <th>상호명</th>\n",
       "      <th>지점명</th>\n",
       "      <th>상권업종대분류코드</th>\n",
       "      <th>상권업종대분류명</th>\n",
       "      <th>상권업종중분류코드</th>\n",
       "      <th>상권업종중분류명</th>\n",
       "      <th>상권업종소분류코드</th>\n",
       "      <th>상권업종소분류명</th>\n",
       "      <th>표준산업분류코드</th>\n",
       "      <th>...</th>\n",
       "      <th>건물관리번호</th>\n",
       "      <th>건물명</th>\n",
       "      <th>도로명주소</th>\n",
       "      <th>구우편번호</th>\n",
       "      <th>신우편번호</th>\n",
       "      <th>동정보</th>\n",
       "      <th>층정보</th>\n",
       "      <th>호정보</th>\n",
       "      <th>경도</th>\n",
       "      <th>위도</th>\n",
       "    </tr>\n",
       "  </thead>\n",
       "  <tbody>\n",
       "    <tr>\n",
       "      <th>1219</th>\n",
       "      <td>19976038</td>\n",
       "      <td>스타벅스</td>\n",
       "      <td>이태원점</td>\n",
       "      <td>Q</td>\n",
       "      <td>음식</td>\n",
       "      <td>Q12</td>\n",
       "      <td>커피점/카페</td>\n",
       "      <td>Q12A01</td>\n",
       "      <td>커피전문점/카페/다방</td>\n",
       "      <td>I56220</td>\n",
       "      <td>...</td>\n",
       "      <td>1117013000101270029009542</td>\n",
       "      <td>NaN</td>\n",
       "      <td>서울특별시 용산구 이태원로 188</td>\n",
       "      <td>140200</td>\n",
       "      <td>4406.0</td>\n",
       "      <td>NaN</td>\n",
       "      <td>NaN</td>\n",
       "      <td>29</td>\n",
       "      <td>126.994781</td>\n",
       "      <td>37.534303</td>\n",
       "    </tr>\n",
       "    <tr>\n",
       "      <th>1676</th>\n",
       "      <td>25435527</td>\n",
       "      <td>이디야커피</td>\n",
       "      <td>신길역점</td>\n",
       "      <td>Q</td>\n",
       "      <td>음식</td>\n",
       "      <td>Q12</td>\n",
       "      <td>커피점/카페</td>\n",
       "      <td>Q12A01</td>\n",
       "      <td>커피전문점/카페/다방</td>\n",
       "      <td>I56220</td>\n",
       "      <td>...</td>\n",
       "      <td>1156013200100590002019075</td>\n",
       "      <td>엔씨티오피스텔</td>\n",
       "      <td>서울특별시 영등포구 영등포로 353</td>\n",
       "      <td>150050</td>\n",
       "      <td>7318.0</td>\n",
       "      <td>NaN</td>\n",
       "      <td>1</td>\n",
       "      <td>NaN</td>\n",
       "      <td>126.918062</td>\n",
       "      <td>37.515118</td>\n",
       "    </tr>\n",
       "    <tr>\n",
       "      <th>1946</th>\n",
       "      <td>19998811</td>\n",
       "      <td>스타벅스종로3가점</td>\n",
       "      <td>종로3가점</td>\n",
       "      <td>Q</td>\n",
       "      <td>음식</td>\n",
       "      <td>Q12</td>\n",
       "      <td>커피점/카페</td>\n",
       "      <td>Q12A01</td>\n",
       "      <td>커피전문점/카페/다방</td>\n",
       "      <td>I56220</td>\n",
       "      <td>...</td>\n",
       "      <td>1111015600100090003016323</td>\n",
       "      <td>NaN</td>\n",
       "      <td>서울특별시 종로구 종로 113-1</td>\n",
       "      <td>110123</td>\n",
       "      <td>3139.0</td>\n",
       "      <td>NaN</td>\n",
       "      <td>1</td>\n",
       "      <td>NaN</td>\n",
       "      <td>126.990207</td>\n",
       "      <td>37.570585</td>\n",
       "    </tr>\n",
       "    <tr>\n",
       "      <th>2840</th>\n",
       "      <td>20680373</td>\n",
       "      <td>스타벅스</td>\n",
       "      <td>신사2점</td>\n",
       "      <td>Q</td>\n",
       "      <td>음식</td>\n",
       "      <td>Q12</td>\n",
       "      <td>커피점/카페</td>\n",
       "      <td>Q12A01</td>\n",
       "      <td>커피전문점/카페/다방</td>\n",
       "      <td>I56220</td>\n",
       "      <td>...</td>\n",
       "      <td>1165010600100280001019301</td>\n",
       "      <td>푸른빌딩</td>\n",
       "      <td>서울특별시 서초구 강남대로 581</td>\n",
       "      <td>137904</td>\n",
       "      <td>6530.0</td>\n",
       "      <td>NaN</td>\n",
       "      <td>2</td>\n",
       "      <td>NaN</td>\n",
       "      <td>127.019763</td>\n",
       "      <td>37.513663</td>\n",
       "    </tr>\n",
       "    <tr>\n",
       "      <th>2886</th>\n",
       "      <td>20592419</td>\n",
       "      <td>이디야커피</td>\n",
       "      <td>이마트구로점</td>\n",
       "      <td>Q</td>\n",
       "      <td>음식</td>\n",
       "      <td>Q12</td>\n",
       "      <td>커피점/카페</td>\n",
       "      <td>Q12A01</td>\n",
       "      <td>커피전문점/카페/다방</td>\n",
       "      <td>I56220</td>\n",
       "      <td>...</td>\n",
       "      <td>1153010200101880026022963</td>\n",
       "      <td>이마트구로점</td>\n",
       "      <td>서울특별시 구로구 디지털로32길 43</td>\n",
       "      <td>152050</td>\n",
       "      <td>8379.0</td>\n",
       "      <td>NaN</td>\n",
       "      <td>3</td>\n",
       "      <td>NaN</td>\n",
       "      <td>126.897870</td>\n",
       "      <td>37.484385</td>\n",
       "    </tr>\n",
       "  </tbody>\n",
       "</table>\n",
       "<p>5 rows × 39 columns</p>\n",
       "</div>"
      ],
      "text/plain": [
       "        상가업소번호        상호명     지점명 상권업종대분류코드 상권업종대분류명 상권업종중분류코드 상권업종중분류명  \\\n",
       "1219  19976038       스타벅스    이태원점         Q       음식       Q12   커피점/카페   \n",
       "1676  25435527      이디야커피    신길역점         Q       음식       Q12   커피점/카페   \n",
       "1946  19998811  스타벅스종로3가점   종로3가점         Q       음식       Q12   커피점/카페   \n",
       "2840  20680373       스타벅스    신사2점         Q       음식       Q12   커피점/카페   \n",
       "2886  20592419      이디야커피  이마트구로점         Q       음식       Q12   커피점/카페   \n",
       "\n",
       "     상권업종소분류코드     상권업종소분류명 표준산업분류코드  ...                     건물관리번호      건물명  \\\n",
       "1219    Q12A01  커피전문점/카페/다방   I56220  ...  1117013000101270029009542      NaN   \n",
       "1676    Q12A01  커피전문점/카페/다방   I56220  ...  1156013200100590002019075  엔씨티오피스텔   \n",
       "1946    Q12A01  커피전문점/카페/다방   I56220  ...  1111015600100090003016323      NaN   \n",
       "2840    Q12A01  커피전문점/카페/다방   I56220  ...  1165010600100280001019301     푸른빌딩   \n",
       "2886    Q12A01  커피전문점/카페/다방   I56220  ...  1153010200101880026022963   이마트구로점   \n",
       "\n",
       "                     도로명주소   구우편번호   신우편번호  동정보  층정보  호정보          경도  \\\n",
       "1219    서울특별시 용산구 이태원로 188  140200  4406.0  NaN  NaN   29  126.994781   \n",
       "1676   서울특별시 영등포구 영등포로 353  150050  7318.0  NaN    1  NaN  126.918062   \n",
       "1946    서울특별시 종로구 종로 113-1  110123  3139.0  NaN    1  NaN  126.990207   \n",
       "2840    서울특별시 서초구 강남대로 581  137904  6530.0  NaN    2  NaN  127.019763   \n",
       "2886  서울특별시 구로구 디지털로32길 43  152050  8379.0  NaN    3  NaN  126.897870   \n",
       "\n",
       "             위도  \n",
       "1219  37.534303  \n",
       "1676  37.515118  \n",
       "1946  37.570585  \n",
       "2840  37.513663  \n",
       "2886  37.484385  \n",
       "\n",
       "[5 rows x 39 columns]"
      ]
     },
     "execution_count": 15,
     "metadata": {},
     "output_type": "execute_result"
    }
   ],
   "source": [
    "df_cafe.head()"
   ]
  },
  {
   "cell_type": "code",
   "execution_count": 16,
   "metadata": {},
   "outputs": [
    {
     "data": {
      "text/plain": [
       "스타벅스                296\n",
       "스타벅스양천향교역             2\n",
       "스타벅스동교삼거리점            1\n",
       "스타벅스가든파이브             1\n",
       "스타벅스논현힐탑              1\n",
       "스타벅스종각점               1\n",
       "스타벅스구파발역점             1\n",
       "스타벅스명동역점              1\n",
       "스타벅스마포아크로타워점          1\n",
       "스타벅스송파구청점             1\n",
       "스타벅스올림픽공원북문점          1\n",
       "스타벅스이수역사거리점           1\n",
       "스타벅스성신여대정문            1\n",
       "스타벅스W-MALL점           1\n",
       "스타벅스커피여의도호성           1\n",
       "스타벅스화곡DT점             1\n",
       "스타벅스천호로데오점            1\n",
       "스타벅스화곡동점              1\n",
       "스타벅스가산디지털단지점          1\n",
       "스타벅스송파방이DT점           1\n",
       "STARBUCKSCOFFEE       1\n",
       "스타벅스구산역점              1\n",
       "스타벅스역점                1\n",
       "스타벅스사당점               1\n",
       "스타벅스동여의도점             1\n",
       "스타벅스광운대점              1\n",
       "스타벅스서울교대점             1\n",
       "스타벅스신천역점              1\n",
       "스타벅스새문안로점             1\n",
       "스타벅스서울대역점             1\n",
       "                   ... \n",
       "스타벅스남산스테이트            1\n",
       "스타벅스서울대입구역점           1\n",
       "스타벅스선릉로점              1\n",
       "스타벅스역삼럭키점             1\n",
       "스타벅스광장점               1\n",
       "스타벅스명지대점              1\n",
       "스타벅스예술의전당점            1\n",
       "스타벅스동교점               1\n",
       "스타벅스학여울점              1\n",
       "스타벅스신촌명물거리점           1\n",
       "스타벅스중구저동점             1\n",
       "스타벅스커피가산브이타워          1\n",
       "스타벅스압구정로데오역           1\n",
       "스타벅스서교동사거리점           1\n",
       "스타벅스삼성도심공항점           1\n",
       "스타벅스커리학동사거리점          1\n",
       "스타벅스상암DMC센트럴몰점        1\n",
       "스타벅스미아역점              1\n",
       "스타벅스영등포신길DT점          1\n",
       "스타벅스합정메세나몰점           1\n",
       "스타벅스송파사거리점            1\n",
       "스타벅스홍대삼거리점            1\n",
       "스타벅스청량리역점             1\n",
       "스타벅스구로디지털타워점          1\n",
       "스타벅스신촌점               1\n",
       "스타벅스청계산입구역점           1\n",
       "스타벅스이태원거리점            1\n",
       "스타벅스종암점               1\n",
       "스타벅스커피마포염리            1\n",
       "스타벅스커피신도림디큐브시티2F      1\n",
       "Name: 상호명, Length: 206, dtype: int64"
      ]
     },
     "execution_count": 16,
     "metadata": {},
     "output_type": "execute_result"
    }
   ],
   "source": [
    "df_seoul.loc[df_seoul['상호명'].str.contains('스타벅스|starbucks|STARBUCKS'), '상호명'].value_counts()"
   ]
  },
  {
   "cell_type": "code",
   "execution_count": 17,
   "metadata": {},
   "outputs": [],
   "source": [
    "df_cafe.loc[df_cafe['상호명'].str.contains('스타벅스|starbucks|STARBUCKS'), '브랜드명'] = '스타벅스'"
   ]
  },
  {
   "cell_type": "code",
   "execution_count": 18,
   "metadata": {},
   "outputs": [
    {
     "data": {
      "text/html": [
       "<div>\n",
       "<style scoped>\n",
       "    .dataframe tbody tr th:only-of-type {\n",
       "        vertical-align: middle;\n",
       "    }\n",
       "\n",
       "    .dataframe tbody tr th {\n",
       "        vertical-align: top;\n",
       "    }\n",
       "\n",
       "    .dataframe thead th {\n",
       "        text-align: right;\n",
       "    }\n",
       "</style>\n",
       "<table border=\"1\" class=\"dataframe\">\n",
       "  <thead>\n",
       "    <tr style=\"text-align: right;\">\n",
       "      <th></th>\n",
       "      <th>상호명</th>\n",
       "      <th>브랜드명</th>\n",
       "    </tr>\n",
       "  </thead>\n",
       "  <tbody>\n",
       "    <tr>\n",
       "      <th>1219</th>\n",
       "      <td>스타벅스</td>\n",
       "      <td>스타벅스</td>\n",
       "    </tr>\n",
       "    <tr>\n",
       "      <th>1676</th>\n",
       "      <td>이디야커피</td>\n",
       "      <td>NaN</td>\n",
       "    </tr>\n",
       "    <tr>\n",
       "      <th>1946</th>\n",
       "      <td>스타벅스종로3가점</td>\n",
       "      <td>스타벅스</td>\n",
       "    </tr>\n",
       "    <tr>\n",
       "      <th>2840</th>\n",
       "      <td>스타벅스</td>\n",
       "      <td>스타벅스</td>\n",
       "    </tr>\n",
       "    <tr>\n",
       "      <th>2886</th>\n",
       "      <td>이디야커피</td>\n",
       "      <td>NaN</td>\n",
       "    </tr>\n",
       "    <tr>\n",
       "      <th>8718</th>\n",
       "      <td>이디야커피</td>\n",
       "      <td>NaN</td>\n",
       "    </tr>\n",
       "    <tr>\n",
       "      <th>14596</th>\n",
       "      <td>이디야커피</td>\n",
       "      <td>NaN</td>\n",
       "    </tr>\n",
       "    <tr>\n",
       "      <th>14939</th>\n",
       "      <td>스타벅스커피여의도IFC1F</td>\n",
       "      <td>스타벅스</td>\n",
       "    </tr>\n",
       "    <tr>\n",
       "      <th>14951</th>\n",
       "      <td>스타벅스</td>\n",
       "      <td>스타벅스</td>\n",
       "    </tr>\n",
       "    <tr>\n",
       "      <th>15161</th>\n",
       "      <td>이디야커피</td>\n",
       "      <td>NaN</td>\n",
       "    </tr>\n",
       "    <tr>\n",
       "      <th>15168</th>\n",
       "      <td>이디야커피</td>\n",
       "      <td>NaN</td>\n",
       "    </tr>\n",
       "    <tr>\n",
       "      <th>15343</th>\n",
       "      <td>이디야IBK고객센터</td>\n",
       "      <td>NaN</td>\n",
       "    </tr>\n",
       "    <tr>\n",
       "      <th>15379</th>\n",
       "      <td>이디야커피</td>\n",
       "      <td>NaN</td>\n",
       "    </tr>\n",
       "    <tr>\n",
       "      <th>15707</th>\n",
       "      <td>이디야커피</td>\n",
       "      <td>NaN</td>\n",
       "    </tr>\n",
       "    <tr>\n",
       "      <th>16354</th>\n",
       "      <td>스타벅스</td>\n",
       "      <td>스타벅스</td>\n",
       "    </tr>\n",
       "    <tr>\n",
       "      <th>16851</th>\n",
       "      <td>스타벅스신림사거리점</td>\n",
       "      <td>스타벅스</td>\n",
       "    </tr>\n",
       "    <tr>\n",
       "      <th>25513</th>\n",
       "      <td>스타벅스</td>\n",
       "      <td>스타벅스</td>\n",
       "    </tr>\n",
       "    <tr>\n",
       "      <th>26275</th>\n",
       "      <td>이디야서대문점2호</td>\n",
       "      <td>NaN</td>\n",
       "    </tr>\n",
       "    <tr>\n",
       "      <th>28762</th>\n",
       "      <td>스타벅스커피홍대역</td>\n",
       "      <td>스타벅스</td>\n",
       "    </tr>\n",
       "    <tr>\n",
       "      <th>30069</th>\n",
       "      <td>이디야커피</td>\n",
       "      <td>NaN</td>\n",
       "    </tr>\n",
       "  </tbody>\n",
       "</table>\n",
       "</div>"
      ],
      "text/plain": [
       "                  상호명  브랜드명\n",
       "1219             스타벅스  스타벅스\n",
       "1676            이디야커피   NaN\n",
       "1946        스타벅스종로3가점  스타벅스\n",
       "2840             스타벅스  스타벅스\n",
       "2886            이디야커피   NaN\n",
       "8718            이디야커피   NaN\n",
       "14596           이디야커피   NaN\n",
       "14939  스타벅스커피여의도IFC1F  스타벅스\n",
       "14951            스타벅스  스타벅스\n",
       "15161           이디야커피   NaN\n",
       "15168           이디야커피   NaN\n",
       "15343      이디야IBK고객센터   NaN\n",
       "15379           이디야커피   NaN\n",
       "15707           이디야커피   NaN\n",
       "16354            스타벅스  스타벅스\n",
       "16851      스타벅스신림사거리점  스타벅스\n",
       "25513            스타벅스  스타벅스\n",
       "26275       이디야서대문점2호   NaN\n",
       "28762       스타벅스커피홍대역  스타벅스\n",
       "30069           이디야커피   NaN"
      ]
     },
     "execution_count": 18,
     "metadata": {},
     "output_type": "execute_result"
    }
   ],
   "source": [
    "df_cafe[['상호명', '브랜드명']].head(20)"
   ]
  },
  {
   "cell_type": "markdown",
   "metadata": {},
   "source": [
    "### '브랜드명'이 NaN인 결측치 값을 '이디야'로 채우기"
   ]
  },
  {
   "cell_type": "code",
   "execution_count": 19,
   "metadata": {},
   "outputs": [
    {
     "data": {
      "text/plain": [
       "1676     이디야커피\n",
       "2886     이디야커피\n",
       "8718     이디야커피\n",
       "14596    이디야커피\n",
       "15161    이디야커피\n",
       "Name: 상호명, dtype: object"
      ]
     },
     "execution_count": 19,
     "metadata": {},
     "output_type": "execute_result"
    }
   ],
   "source": [
    "df_cafe.loc[df_cafe['브랜드명'].isnull(), '상호명'].head()"
   ]
  },
  {
   "cell_type": "code",
   "execution_count": 20,
   "metadata": {},
   "outputs": [],
   "source": [
    "df_cafe['브랜드명'] = df_cafe['브랜드명'].fillna('이디야')"
   ]
  },
  {
   "cell_type": "code",
   "execution_count": 21,
   "metadata": {},
   "outputs": [
    {
     "data": {
      "text/plain": [
       "스타벅스    502\n",
       "이디야     501\n",
       "Name: 브랜드명, dtype: int64"
      ]
     },
     "execution_count": 21,
     "metadata": {},
     "output_type": "execute_result"
    }
   ],
   "source": [
    "df_cafe['브랜드명'].value_counts()"
   ]
  },
  {
   "cell_type": "markdown",
   "metadata": {},
   "source": [
    "## '상호명','브랜드명' 컬럼 확인하기 "
   ]
  },
  {
   "cell_type": "code",
   "execution_count": 22,
   "metadata": {
    "scrolled": false
   },
   "outputs": [
    {
     "data": {
      "text/html": [
       "<div>\n",
       "<style scoped>\n",
       "    .dataframe tbody tr th:only-of-type {\n",
       "        vertical-align: middle;\n",
       "    }\n",
       "\n",
       "    .dataframe tbody tr th {\n",
       "        vertical-align: top;\n",
       "    }\n",
       "\n",
       "    .dataframe thead th {\n",
       "        text-align: right;\n",
       "    }\n",
       "</style>\n",
       "<table border=\"1\" class=\"dataframe\">\n",
       "  <thead>\n",
       "    <tr style=\"text-align: right;\">\n",
       "      <th></th>\n",
       "      <th>상호명</th>\n",
       "      <th>브랜드명</th>\n",
       "    </tr>\n",
       "  </thead>\n",
       "  <tbody>\n",
       "    <tr>\n",
       "      <th>1219</th>\n",
       "      <td>스타벅스</td>\n",
       "      <td>스타벅스</td>\n",
       "    </tr>\n",
       "    <tr>\n",
       "      <th>1676</th>\n",
       "      <td>이디야커피</td>\n",
       "      <td>이디야</td>\n",
       "    </tr>\n",
       "    <tr>\n",
       "      <th>1946</th>\n",
       "      <td>스타벅스종로3가점</td>\n",
       "      <td>스타벅스</td>\n",
       "    </tr>\n",
       "    <tr>\n",
       "      <th>2840</th>\n",
       "      <td>스타벅스</td>\n",
       "      <td>스타벅스</td>\n",
       "    </tr>\n",
       "    <tr>\n",
       "      <th>2886</th>\n",
       "      <td>이디야커피</td>\n",
       "      <td>이디야</td>\n",
       "    </tr>\n",
       "  </tbody>\n",
       "</table>\n",
       "</div>"
      ],
      "text/plain": [
       "            상호명  브랜드명\n",
       "1219       스타벅스  스타벅스\n",
       "1676      이디야커피   이디야\n",
       "1946  스타벅스종로3가점  스타벅스\n",
       "2840       스타벅스  스타벅스\n",
       "2886      이디야커피   이디야"
      ]
     },
     "execution_count": 22,
     "metadata": {},
     "output_type": "execute_result"
    }
   ],
   "source": [
    "df_cafe[['상호명','브랜드명']].head()"
   ]
  },
  {
   "cell_type": "code",
   "execution_count": 23,
   "metadata": {},
   "outputs": [
    {
     "data": {
      "text/plain": [
       "스타벅스    502\n",
       "이디야     501\n",
       "Name: 브랜드명, dtype: int64"
      ]
     },
     "execution_count": 23,
     "metadata": {},
     "output_type": "execute_result"
    }
   ],
   "source": [
    "df_cafe['브랜드명'].value_counts()"
   ]
  },
  {
   "cell_type": "markdown",
   "metadata": {},
   "source": [
    "## folium 시각화"
   ]
  },
  {
   "cell_type": "code",
   "execution_count": 24,
   "metadata": {},
   "outputs": [],
   "source": [
    "geo_df = df_cafe"
   ]
  },
  {
   "cell_type": "code",
   "execution_count": 27,
   "metadata": {},
   "outputs": [
    {
     "ename": "AttributeError",
     "evalue": "module 'folium' has no attribute 'Map'",
     "output_type": "error",
     "traceback": [
      "\u001b[1;31m---------------------------------------------------------------------------\u001b[0m",
      "\u001b[1;31mAttributeError\u001b[0m                            Traceback (most recent call last)",
      "\u001b[1;32m<ipython-input-27-d595f0273dc8>\u001b[0m in \u001b[0;36m<module>\u001b[1;34m\u001b[0m\n\u001b[1;32m----> 1\u001b[1;33m map = folium.Map(location=[geo_df['위도'].mean(), \n\u001b[0m\u001b[0;32m      2\u001b[0m                            geo_df['경도'].mean()], \n\u001b[0;32m      3\u001b[0m                  \u001b[0mzoom_start\u001b[0m\u001b[1;33m=\u001b[0m\u001b[1;36m12\u001b[0m\u001b[1;33m,\u001b[0m\u001b[1;33m\u001b[0m\u001b[1;33m\u001b[0m\u001b[0m\n\u001b[0;32m      4\u001b[0m                  tiles='Stamen Toner')\n\u001b[0;32m      5\u001b[0m \u001b[1;33m\u001b[0m\u001b[0m\n",
      "\u001b[1;31mAttributeError\u001b[0m: module 'folium' has no attribute 'Map'"
     ]
    }
   ],
   "source": [
    "map = folium.Map(location=[geo_df['위도'].mean(), \n",
    "                           geo_df['경도'].mean()], \n",
    "                 zoom_start=12, \n",
    "                 tiles='Stamen Toner')\n",
    "\n",
    "for n in geo_df.index:    \n",
    "    popup_name = geo_df.loc[n, '상호명'] + ' - ' + geo_df.loc[n, '도로명주소']\n",
    "    \n",
    "    if geo_df.loc[n, '브랜드명'] == '스타벅스' :\n",
    "        icon_color = 'green'\n",
    "    else:\n",
    "        icon_color = 'blue'  \n",
    "    \n",
    "    folium.CircleMarker(\n",
    "        location=[geo_df.loc[n,'위도'], \n",
    "                  geo_df.loc[n, '경도']],\n",
    "        radius=3,\n",
    "        popup=popup_name,\n",
    "        color= icon_color,\n",
    "        fill=True,\n",
    "        fill_color=icon_color\n",
    "    ).add_to(map)\n",
    "\n",
    "\n",
    "map"
   ]
  },
  {
   "cell_type": "markdown",
   "metadata": {},
   "source": [
    "## 구별 브랜드별 점포수로 데이타프레임 생성하기"
   ]
  },
  {
   "cell_type": "code",
   "execution_count": null,
   "metadata": {},
   "outputs": [],
   "source": [
    "df_cafe.groupby(['시군구명', '브랜드명'])['상호명'].count()"
   ]
  },
  {
   "cell_type": "code",
   "execution_count": null,
   "metadata": {},
   "outputs": [],
   "source": [
    "df_cafe_brand = pd.DataFrame(\n",
    "    df_cafe.groupby(['시군구명', '브랜드명'])['상호명'].count()\n",
    ").reset_index()"
   ]
  },
  {
   "cell_type": "code",
   "execution_count": null,
   "metadata": {},
   "outputs": [],
   "source": [
    "df_cafe_brand"
   ]
  },
  {
   "cell_type": "code",
   "execution_count": null,
   "metadata": {},
   "outputs": [],
   "source": [
    "df_cafe_brand.columns = ['구', '브랜드명', '매장수']\n",
    "df_cafe_brand"
   ]
  },
  {
   "cell_type": "markdown",
   "metadata": {},
   "source": [
    "## 시각화"
   ]
  },
  {
   "cell_type": "code",
   "execution_count": null,
   "metadata": {},
   "outputs": [],
   "source": [
    "plt.figure(figsize=(24, 6))\n",
    "sns.barplot(data=df_cafe_brand, x='구', y='매장수', \n",
    "            hue='브랜드명')"
   ]
  },
  {
   "cell_type": "markdown",
   "metadata": {},
   "source": [
    "## groupby로 구별로 갯수 확인하기"
   ]
  },
  {
   "cell_type": "code",
   "execution_count": null,
   "metadata": {
    "scrolled": true
   },
   "outputs": [],
   "source": [
    "df_cafe.groupby(['시군구명'])['상호명'].count()"
   ]
  },
  {
   "cell_type": "code",
   "execution_count": null,
   "metadata": {},
   "outputs": [],
   "source": [
    "df_cafe_gu = pd.DataFrame(\n",
    "    df_cafe.groupby(['시군구명'])['상호명'].count()\n",
    " )\n",
    "df_cafe_gu.columns = ['매장수']\n",
    "df_cafe_gu.head()"
   ]
  },
  {
   "cell_type": "markdown",
   "metadata": {},
   "source": [
    "## choropleth 그리기\n",
    "\n",
    "* 구별로 매장수를 표현"
   ]
  },
  {
   "cell_type": "code",
   "execution_count": null,
   "metadata": {},
   "outputs": [],
   "source": [
    "import json\n",
    "geo_path = '../data/seoul_municipalities_geo_simple.json'\n",
    "geo_json = json.load(open(geo_path, encoding='utf-8'))\n",
    "geo_json"
   ]
  },
  {
   "cell_type": "markdown",
   "metadata": {},
   "source": [
    "### 스타벅스 이디야 카페 매장 합계 분포"
   ]
  },
  {
   "cell_type": "code",
   "execution_count": null,
   "metadata": {
    "scrolled": true
   },
   "outputs": [],
   "source": [
    "\n",
    "\n",
    "map = folium.Map(location=[geo_df['위도'].mean(), \n",
    "                           geo_df['경도'].mean()], \n",
    "                 zoom_start=12)\n",
    "\n",
    "map.choropleth(geo_data = geo_json,\n",
    "data = df_cafe_gu['매장수'],\n",
    "columns = [df_cafe_gu.index, df_cafe_gu['매장수']],\n",
    "fill_color = 'Purples',\n",
    "key_on = 'properties.SIG_KOR_NM',\n",
    "fill_opacity=0.7,\n",
    "line_opacity=0.2,\n",
    "highlight=True)\n",
    "\n",
    "\n",
    "for n in geo_df.index:\n",
    "    popup_name = geo_df.loc[n, '상호명'] + ' - ' + geo_df.loc[n, '도로명주소']\n",
    "    \n",
    "    if geo_df.loc[n, '브랜드명'] == '스타벅스' :\n",
    "        icon_color = 'green'\n",
    "    else:\n",
    "        icon_color = 'blue'    \n",
    "    \n",
    "    # folium.CircleMarker 혹은 folium.features.CircleMarker 오류가 날 경우\n",
    "    # --> folium.vector_layer.CircleMarker 를 사용합니다. \n",
    "    folium.CircleMarker(\n",
    "        location=[geo_df.loc[n,'위도'], \n",
    "                  geo_df.loc[n, '경도']],\n",
    "        radius=3,\n",
    "        popup=popup_name,\n",
    "        color= icon_color,\n",
    "        fill=True,\n",
    "        fill_color=icon_color\n",
    "    ).add_to(map)\n",
    "\n",
    "map"
   ]
  },
  {
   "cell_type": "markdown",
   "metadata": {},
   "source": [
    "### 스타벅스 매장 분포"
   ]
  },
  {
   "cell_type": "code",
   "execution_count": 9,
   "metadata": {},
   "outputs": [
    {
     "ename": "NameError",
     "evalue": "name 'df_cafe' is not defined",
     "output_type": "error",
     "traceback": [
      "\u001b[1;31m---------------------------------------------------------------------------\u001b[0m",
      "\u001b[1;31mNameError\u001b[0m                                 Traceback (most recent call last)",
      "\u001b[1;32m<ipython-input-9-6edcd3706242>\u001b[0m in \u001b[0;36m<module>\u001b[1;34m\u001b[0m\n\u001b[1;32m----> 1\u001b[1;33m \u001b[0mdf_cafe_temp\u001b[0m \u001b[1;33m=\u001b[0m \u001b[0mdf_cafe\u001b[0m\u001b[1;33m[\u001b[0m\u001b[0mdf_cafe\u001b[0m\u001b[1;33m[\u001b[0m\u001b[1;34m'브랜드명'\u001b[0m\u001b[1;33m]\u001b[0m \u001b[1;33m==\u001b[0m \u001b[1;34m'스타벅스'\u001b[0m\u001b[1;33m]\u001b[0m\u001b[1;33m\u001b[0m\u001b[1;33m\u001b[0m\u001b[0m\n\u001b[0m\u001b[0;32m      2\u001b[0m df_cafe_starbucks = pd.DataFrame(\n\u001b[0;32m      3\u001b[0m     \u001b[0mdf_cafe_temp\u001b[0m\u001b[1;33m.\u001b[0m\u001b[0mgroupby\u001b[0m\u001b[1;33m(\u001b[0m\u001b[1;33m[\u001b[0m\u001b[1;34m'시군구명'\u001b[0m\u001b[1;33m]\u001b[0m\u001b[1;33m)\u001b[0m\u001b[1;33m[\u001b[0m\u001b[1;34m'상호명'\u001b[0m\u001b[1;33m]\u001b[0m\u001b[1;33m.\u001b[0m\u001b[0mcount\u001b[0m\u001b[1;33m(\u001b[0m\u001b[1;33m)\u001b[0m\u001b[1;33m\u001b[0m\u001b[1;33m\u001b[0m\u001b[0m\n\u001b[0;32m      4\u001b[0m )\n\u001b[0;32m      5\u001b[0m \u001b[0mdf_cafe_starbucks\u001b[0m\u001b[1;33m.\u001b[0m\u001b[0mcolumns\u001b[0m \u001b[1;33m=\u001b[0m \u001b[1;33m[\u001b[0m\u001b[1;34m'매장수'\u001b[0m\u001b[1;33m]\u001b[0m\u001b[1;33m\u001b[0m\u001b[1;33m\u001b[0m\u001b[0m\n",
      "\u001b[1;31mNameError\u001b[0m: name 'df_cafe' is not defined"
     ]
    }
   ],
   "source": [
    "df_cafe_temp = df_cafe[df_cafe['브랜드명'] == '스타벅스']\n",
    "df_cafe_starbucks = pd.DataFrame(\n",
    "    df_cafe_temp.groupby(['시군구명'])['상호명'].count()\n",
    ")\n",
    "df_cafe_starbucks.columns = ['매장수']\n",
    "df_cafe_starbucks.head()"
   ]
  },
  {
   "cell_type": "code",
   "execution_count": null,
   "metadata": {},
   "outputs": [],
   "source": [
    "map = folium.Map(location=[geo_df['위도'].mean(), \n",
    "                           geo_df['경도'].mean()], \n",
    "                 zoom_start=11, tiles='Stamen Toner')\n",
    "\n",
    "map.choropleth(geo_data = geo_json,\n",
    "               data = df_cafe_starbucks['매장수'],\n",
    "               columns = [df_cafe_starbucks.index, \n",
    "                          df_cafe_starbucks['매장수']],\n",
    "               fill_color = 'YlGn',\n",
    "               key_on = 'properties.SIG_KOR_NM',\n",
    "               fill_opacity=0.7,\n",
    "               line_opacity=0.2,\n",
    "               highlight=True)\n",
    "\n",
    "\n",
    "for n in geo_df.index:\n",
    "    \n",
    "    popup_name = geo_df.loc[n, '상호명'] + ' - ' + geo_df.loc[n, '도로명주소']\n",
    "    \n",
    "    if geo_df.loc[n, '브랜드명'] == '스타벅스' :\n",
    "        icon_color = 'green'    \n",
    "\n",
    "        folium.CircleMarker(\n",
    "            location=[geo_df.loc[n,'위도'], geo_df.loc[n, '경도']],\n",
    "            radius=3,\n",
    "            popup=popup_name,\n",
    "            color= icon_color,\n",
    "            fill=True,\n",
    "            fill_color=icon_color\n",
    "        ).add_to(map)\n",
    "\n",
    "\n",
    "map"
   ]
  },
  {
   "cell_type": "markdown",
   "metadata": {},
   "source": [
    "### 이디야 매장 분포"
   ]
  },
  {
   "cell_type": "code",
   "execution_count": null,
   "metadata": {},
   "outputs": [],
   "source": [
    "df_cafe_temp = df_cafe[df_cafe['브랜드명'] == '이디야']\n",
    "df_cafe_ediya = pd.DataFrame(df_cafe_temp.groupby(['시군구명'])['상호명'].count())\n",
    "df_cafe_ediya.columns = ['매장수']\n",
    "df_cafe_ediya.head()"
   ]
  },
  {
   "cell_type": "code",
   "execution_count": null,
   "metadata": {},
   "outputs": [],
   "source": [
    "map = folium.Map(location=[geo_df['위도'].mean(), geo_df['경도'].mean()], \n",
    "                 zoom_start=11, tiles='Stamen Toner')\n",
    "\n",
    "map.choropleth(geo_data = geo_json,\n",
    "               data = df_cafe_ediya['매장수'],\n",
    "               columns = [df_cafe_ediya.index, df_cafe_ediya['매장수']],\n",
    "               fill_color = 'PuBu',\n",
    "               key_on = 'properties.SIG_KOR_NM',\n",
    "               fill_opacity=0.7,\n",
    "               line_opacity=0.2,\n",
    "               highlight=True)\n",
    "\n",
    "\n",
    "for n in geo_df.index:\n",
    "    \n",
    "    popup_name = geo_df.loc[n, '상호명'] + ' - ' + geo_df.loc[n, '도로명주소']\n",
    "    \n",
    "    if geo_df.loc[n, '브랜드명'] == '이디야' :\n",
    "        icon_color = 'blue'    \n",
    "\n",
    "        folium.CircleMarker(\n",
    "            location=[geo_df.loc[n,'위도'], geo_df.loc[n, '경도']],\n",
    "            radius=3,\n",
    "            popup=popup_name,\n",
    "            color= icon_color,\n",
    "            fill=True,\n",
    "            fill_color=icon_color\n",
    "        ).add_to(map)\n",
    "\n",
    "\n",
    "map"
   ]
  },
  {
   "cell_type": "markdown",
   "metadata": {},
   "source": [
    "# 스타벅스와 이디야 비교"
   ]
  },
  {
   "cell_type": "code",
   "execution_count": null,
   "metadata": {
    "scrolled": false
   },
   "outputs": [],
   "source": [
    "df_cafe_brand.head()\n",
    "df_cafe_brand.columns = ['구', '브랜드명','매장수']"
   ]
  },
  {
   "cell_type": "code",
   "execution_count": null,
   "metadata": {},
   "outputs": [],
   "source": [
    "df_cafe_brand.head()"
   ]
  },
  {
   "cell_type": "code",
   "execution_count": null,
   "metadata": {},
   "outputs": [],
   "source": [
    "df_cafe_brand_vs = df_cafe_brand.pivot_table(index='구',columns='브랜드명',values='매장수')\n",
    "df_cafe_brand_vs.columns = ['스타벅스', '이디야']\n",
    "df_cafe_brand_vs.head()"
   ]
  },
  {
   "cell_type": "code",
   "execution_count": null,
   "metadata": {},
   "outputs": [],
   "source": [
    "df_cafe_brand_vs['매장수비교'] = df_cafe_brand_vs.apply(lambda x : 1 if x['스타벅스'] > x['이디야'] else 0, axis=1)\n",
    "df_cafe_brand_vs.head()"
   ]
  },
  {
   "cell_type": "code",
   "execution_count": null,
   "metadata": {},
   "outputs": [],
   "source": [
    "lng_list = []\n",
    "lat_list = []\n",
    "for gu in df_cafe_brand_vs.index:\n",
    "    lat = df_cafe.loc[df_cafe['시군구명'] == gu, '위도'].mean()\n",
    "    lng = df_cafe.loc[df_cafe['시군구명'] == gu, '경도'].mean()\n",
    "    lat_list.append(lat)\n",
    "    lng_list.append(lng)\n",
    "    \n",
    "df_cafe_brand_vs['위도'] = lat_list\n",
    "df_cafe_brand_vs['경도'] = lng_list\n",
    "df_cafe_brand_vs.head()"
   ]
  },
  {
   "cell_type": "code",
   "execution_count": null,
   "metadata": {
    "scrolled": true
   },
   "outputs": [],
   "source": [
    "df_cafe_brand_vs['스타벅스'] = df_cafe_brand_vs['스타벅스'].astype(float)\n",
    "df_cafe_brand_vs['이디야'] = df_cafe_brand_vs['이디야'].astype(float)\n",
    "df_cafe_brand_vs.info()"
   ]
  },
  {
   "cell_type": "code",
   "execution_count": null,
   "metadata": {},
   "outputs": [],
   "source": [
    "map = folium.Map(location=[geo_df['위도'].mean(), \n",
    "                           geo_df['경도'].mean()], \n",
    "                 zoom_start=11, \n",
    "                 tiles='Stamen Toner')\n",
    "\n",
    "map.choropleth(geo_data = geo_json,\n",
    "       data = df_cafe_brand_vs['매장수비교'],\n",
    "       columns = [df_cafe_brand_vs.index, \n",
    "                  df_cafe_brand_vs['매장수비교']],\n",
    "       fill_color = 'BuGn',\n",
    "       key_on = 'properties.SIG_KOR_NM',\n",
    "       fill_opacity=0.7,\n",
    "       line_opacity=0.2,\n",
    "       highlight=True)\n",
    "\n",
    "\n",
    "for gu in df_cafe_brand_vs.index:\n",
    "        \n",
    "    for cafe in ['스타벅스', '이디야']:\n",
    "        \n",
    "        cafe_count = df_cafe_brand_vs.loc[gu, cafe]\n",
    "        msg = f'{gu} {cafe} 매장수 : {cafe_count:.0f}'\n",
    "        \n",
    "        icon_color = 'blue'\n",
    "        if cafe == '스타벅스': \n",
    "            icon_color = 'green'\n",
    "        \n",
    "        folium.CircleMarker(\n",
    "    location = [df_cafe_brand_vs.loc[gu,'위도'], \n",
    "                df_cafe_brand_vs.loc[gu,'경도']],\n",
    "    radius = cafe_count,\n",
    "    color = icon_color,\n",
    "    popup = msg,\n",
    "    fill = True,\n",
    "    fill_color = icon_color\n",
    "        ).add_to(map)\n",
    "\n",
    "map"
   ]
  },
  {
   "cell_type": "code",
   "execution_count": null,
   "metadata": {},
   "outputs": [],
   "source": []
  },
  {
   "cell_type": "code",
   "execution_count": null,
   "metadata": {},
   "outputs": [],
   "source": []
  }
 ],
 "metadata": {
  "kernelspec": {
   "display_name": "Python 3",
   "language": "python",
   "name": "python3"
  },
  "language_info": {
   "codemirror_mode": {
    "name": "ipython",
    "version": 3
   },
   "file_extension": ".py",
   "mimetype": "text/x-python",
   "name": "python",
   "nbconvert_exporter": "python",
   "pygments_lexer": "ipython3",
   "version": "3.7.3"
  },
  "varInspector": {
   "cols": {
    "lenName": 16,
    "lenType": 16,
    "lenVar": 40
   },
   "kernels_config": {
    "python": {
     "delete_cmd_postfix": "",
     "delete_cmd_prefix": "del ",
     "library": "var_list.py",
     "varRefreshCmd": "print(var_dic_list())"
    },
    "r": {
     "delete_cmd_postfix": ") ",
     "delete_cmd_prefix": "rm(",
     "library": "var_list.r",
     "varRefreshCmd": "cat(var_dic_list()) "
    }
   },
   "types_to_exclude": [
    "module",
    "function",
    "builtin_function_or_method",
    "instance",
    "_Feature"
   ],
   "window_display": false
  }
 },
 "nbformat": 4,
 "nbformat_minor": 2
}
