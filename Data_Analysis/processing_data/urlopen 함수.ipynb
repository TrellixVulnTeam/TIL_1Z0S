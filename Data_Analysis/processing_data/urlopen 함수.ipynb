{
 "cells": [
  {
   "cell_type": "markdown",
   "metadata": {},
   "source": [
    "## urlopen 함수 기초 사용법\n",
    "\n",
    "- 네이버에서 고양이로 검색하고 이미지 탭에서 선택한 이미지 URL로 로컬에 파일다운로드\n",
    "- urllib.request.urlopen()\n",
    "- URLError : 잘못된 주소를 요청하는 경우\n",
    "- HTTPError : 서버가 접속이 안되는 경우"
   ]
  },
  {
   "cell_type": "code",
   "execution_count": 1,
   "metadata": {},
   "outputs": [],
   "source": [
    "import urllib.request as req\n",
    "from urllib.error import URLError, HTTPError\n"
   ]
  },
  {
   "cell_type": "code",
   "execution_count": 3,
   "metadata": {},
   "outputs": [],
   "source": [
    "# 다운로드 경로 및 파일명\n",
    "path_list = [\"C:/Users/hieun/test3.jpg\", \"C:/Users/hieun/index.html\"]\n",
    "\n",
    "# 다운로드 리소스 URL\n",
    "target_url = [\"https://img.hankyung.com/photo/201903/AA.19067065.1.jpg\"]\n",
    "  "
   ]
  },
  {
   "cell_type": "code",
   "execution_count": 7,
   "metadata": {},
   "outputs": [
    {
     "name": "stdout",
     "output_type": "stream",
     "text": [
      "---------------------------------------------------\n",
      "Header Info-0 : Date: Sat, 03 Aug 2019 11:11:06 GMT\n",
      "Content-Length: 27738\n",
      "Accept-Ranges: bytes\n",
      "ETag: \"5c7c0988:6c5a\"\n",
      "Last-Modified: Sun, 03 Mar 2019 17:06:16 GMT\n",
      "Content-Type: image/jpeg\n",
      "Server: Apache\n",
      "Connection: close\n",
      "\n",
      "\n",
      "HTTP Status Code : 200\n",
      "\n",
      "---------------------------------------------------\n",
      "\n",
      "Download Succeed.\n"
     ]
    }
   ],
   "source": [
    "for i, url in enumerate(target_url):\n",
    "    # 예외 처리\n",
    "    try:\n",
    "        # 웹 수신 정보 읽기\n",
    "        response = req.urlopen(url)\n",
    "        \n",
    "        # 수신 내용\n",
    "        contents = response.read()\n",
    "\n",
    "        print('---------------------------------------------------')\n",
    "\n",
    "        # 상태 정보 중간 출력\n",
    "        print('Header Info-{} : {}'.format(i, response.info()))\n",
    "        print('HTTP Status Code : {}'.format(response.getcode()))\n",
    "        print()\n",
    "        print('---------------------------------------------------')\n",
    "\n",
    "        # 파일 쓰기\n",
    "        with open(path_list[i], 'wb') as c:\n",
    "            c.write(contents)\n",
    "\n",
    "        # HTTP 에러 발생 시\n",
    "    except HTTPError as e:\n",
    "        print(\"Download failed.\")\n",
    "        print('HTTPError Code : ', e.code)\n",
    "\n",
    "        # URL 에러 발생 시\n",
    "    except URLError as e:\n",
    "        print(\"Download failed.\")\n",
    "        print('URL Error Reason : ', e.reason)\n",
    "\n",
    "        # 성공\n",
    "    else:\n",
    "        print()\n",
    "        print(\"Download Succeed.\")\n",
    "\n",
    "\n",
    "       "
   ]
  },
  {
   "cell_type": "code",
   "execution_count": null,
   "metadata": {},
   "outputs": [],
   "source": []
  }
 ],
 "metadata": {
  "kernelspec": {
   "display_name": "Python 3",
   "language": "python",
   "name": "python3"
  },
  "language_info": {
   "codemirror_mode": {
    "name": "ipython",
    "version": 3
   },
   "file_extension": ".py",
   "mimetype": "text/x-python",
   "name": "python",
   "nbconvert_exporter": "python",
   "pygments_lexer": "ipython3",
   "version": "3.7.3"
  }
 },
 "nbformat": 4,
 "nbformat_minor": 2
}
