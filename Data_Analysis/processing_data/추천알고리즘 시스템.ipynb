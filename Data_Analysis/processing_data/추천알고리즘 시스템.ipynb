{
 "cells": [
  {
   "cell_type": "markdown",
   "metadata": {},
   "source": [
    "# 1. Popularity, High Rated Based "
   ]
  },
  {
   "cell_type": "code",
   "execution_count": 1,
   "metadata": {},
   "outputs": [],
   "source": [
    "ratings={\n",
    "     'Dave':{'달콤한인생':5,'범죄도시':3,'샤인':3},\n",
    "     'David':{'달콤한인생':5,'범죄도시':1,'샤인':4},\n",
    "     'Alex':{'달콤한인생':0,'범죄도시':4,'샤인':5},\n",
    "     'Andy':{'달콤한인생':2,'범죄도시':1,'샤인':5}\n",
    "}"
   ]
  },
  {
   "cell_type": "code",
   "execution_count": 2,
   "metadata": {},
   "outputs": [
    {
     "name": "stdout",
     "output_type": "stream",
     "text": [
      "[('샤인', 4.25), ('달콤한인생', 3.0)]\n"
     ]
    }
   ],
   "source": [
    "movie_dict = dict()\n",
    "for rating in ratings:\n",
    "    for movie in ratings[rating].keys():\n",
    "        if movie not in movie_dict:\n",
    "            movie_dict[movie] = ratings[rating][movie]\n",
    "        else:\n",
    "            movie_dict[movie] = (movie_dict[movie] + ratings[rating][movie]) \n",
    "\n",
    "for movie in ratings[rating].keys():\n",
    "    movie_dict[movie] = movie_dict[movie] / 4\n",
    "\n",
    "import operator\n",
    "sorted_x = sorted(movie_dict.items(), key=operator.itemgetter(1), reverse=True)\n",
    "\n",
    "print(sorted_x[:2])"
   ]
  },
  {
   "cell_type": "markdown",
   "metadata": {},
   "source": [
    "# 2.2. Collaborative Filtering\n",
    "- 데이터 구성 : 사용자가 입력한 선호도(평점)를 사용하여 사용자-항목 선호도(평점) 행렬을 만든다.\n",
    "- 유사도 계산 : 1 단계에서 만들어진 행렬을 사용하여 사용자들 간의 유사도를 계산한다.\n",
    "- 예측 값 계산 및 추천 목록 생성 : 사용자들 간의 유사도를 바탕으로 모든 항목에 대해 예측 값을 계산하고 높은 예측 값을 갖는 상위 N개의 추천 목록을 생성한다."
   ]
  },
  {
   "cell_type": "code",
   "execution_count": 4,
   "metadata": {},
   "outputs": [
    {
     "data": {
      "text/plain": [
       "{'달콤한인생': 5, '범죄도시': 1, '샤인': 4}"
      ]
     },
     "execution_count": 4,
     "metadata": {},
     "output_type": "execute_result"
    }
   ],
   "source": [
    "ratings.get('David')"
   ]
  },
  {
   "cell_type": "code",
   "execution_count": 5,
   "metadata": {},
   "outputs": [],
   "source": [
    "# 둘간의 유사도를 측정해보자(유클라디언거리)\n",
    "\n",
    "import math\n",
    "def sim(i, j):\n",
    "    return math.sqrt(pow(i,2)+pow(j,2))"
   ]
  },
  {
   "cell_type": "code",
   "execution_count": 7,
   "metadata": {},
   "outputs": [],
   "source": [
    "var1 =  ratings['Alex']['범죄도시'] - ratings['Andy']['범죄도시']\n",
    "var2 =  ratings['Alex']['샤인'] - ratings['Andy']['샤인']"
   ]
  },
  {
   "cell_type": "code",
   "execution_count": 8,
   "metadata": {},
   "outputs": [
    {
     "data": {
      "text/plain": [
       "3.0"
      ]
     },
     "execution_count": 8,
     "metadata": {},
     "output_type": "execute_result"
    }
   ],
   "source": [
    "sim(var1,var2)"
   ]
  },
  {
   "cell_type": "code",
   "execution_count": 9,
   "metadata": {},
   "outputs": [
    {
     "name": "stdout",
     "output_type": "stream",
     "text": [
      "Dave  :  2.23606797749979\n",
      "David  :  3.1622776601683795\n",
      "Andy  :  3.0\n"
     ]
    }
   ],
   "source": [
    "#Alex가 평가한 범죄도시, 샤인을 모두 평가한 사용자와 모두 거리 구하기 (유사도 구하기)\n",
    "\n",
    "for i in ratings:\n",
    "    if i!='Alex':\n",
    "        num1 = ratings.get('Alex').get('범죄도시') - ratings.get(i).get('범죄도시')\n",
    "        num2 = ratings.get('Alex').get('샤인') - ratings.get(i).get('샤인')\n",
    "        print(i,\" : \", sim(num1,num2))"
   ]
  },
  {
   "cell_type": "code",
   "execution_count": 12,
   "metadata": {},
   "outputs": [
    {
     "name": "stdout",
     "output_type": "stream",
     "text": [
      "Dave  :  0.3090169943749474\n",
      "David  :  0.2402530733520421\n",
      "Andy  :  0.25\n"
     ]
    }
   ],
   "source": [
    "# 유사도에 대한 normalization\n",
    "for i in ratings:\n",
    "    if i!='Alex':\n",
    "        num1 = ratings.get('Alex').get('범죄도시') - ratings.get(i).get('범죄도시')\n",
    "        num2 = ratings.get('Alex').get('샤인') - ratings.get(i).get('샤인')\n",
    "        print(i,\" : \", 1 / ( 1 + sim(num1,num2) ) )"
   ]
  },
  {
   "cell_type": "markdown",
   "metadata": {},
   "source": [
    "#### Dave가 평가한 범죄도시와 샤인 모두 평가한 사용자와의 거리를 구해서, 가장 Dave와 유사한 사용자 구하기"
   ]
  },
  {
   "cell_type": "code",
   "execution_count": 13,
   "metadata": {},
   "outputs": [
    {
     "name": "stdout",
     "output_type": "stream",
     "text": [
      "David  :  0.3090169943749474\n",
      "Alex  :  0.3090169943749474\n",
      "Andy  :  0.2612038749637414\n"
     ]
    }
   ],
   "source": [
    "for i in ratings:\n",
    "    if i!='Dave':\n",
    "        num1 = ratings.get('Dave').get('범죄도시') - ratings.get(i).get('범죄도시')\n",
    "        num2 = ratings.get('Dave').get('샤인') - ratings.get(i).get('샤인')\n",
    "        print(i,\" : \", 1 / ( 1 + sim(num1,num2) ) )"
   ]
  },
  {
   "cell_type": "markdown",
   "metadata": {},
   "source": [
    "# 유사도 측정"
   ]
  },
  {
   "cell_type": "markdown",
   "metadata": {},
   "source": [
    "# 3.1. 평균제곱차이 유사도 (Mean Squared Difference Similarity)\n",
    "\n",
    "### Mean Squared Difference\n",
    "### msd(u,v)=1|Iuv|⋅∑i∈Iuv(rui−rvi)2\n",
    "\n",
    "a. Iuv는 사용자 u와 사용자 v 모두에 의해 평가된 상품의 집합 <br>\n",
    "b. |Iuv|는 사용자 u와 사용자 v 모두에 의해 평가된 상품의 수 <br>\n",
    "c. Item-based Collaborative Filter 경우: 상품 i와 상품 j간의 msd <br>\n",
    "d. msd(i,j)=1|Uij|⋅∑u∈Uij(rui−ruj)2 <br>\n",
    "e. 위 식에서 Uij는 상품 i와 상품 j 모두를 평가한 사용자의 집합이고 |Uij|는 상품 i와 상품 j 모두를 평가한 사용자의 수"
   ]
  },
  {
   "cell_type": "code",
   "execution_count": 16,
   "metadata": {},
   "outputs": [],
   "source": [
    "def sim_msd(data, name1, name2):\n",
    "    sum = 0\n",
    "    count = 0\n",
    "    for movies in data[name1]:\n",
    "        if movies in data[name2]: #같은 영화를 봤다면\n",
    "            sum += pow(data[name1][movies]- data[name2][movies], 2)\n",
    "            count += 1\n",
    "\n",
    "    return 1 / ( 1 + (sum / count) )"
   ]
  },
  {
   "cell_type": "markdown",
   "metadata": {},
   "source": [
    "# 3.2. 코사인 유사도 (Cosine Similarity)"
   ]
  },
  {
   "cell_type": "markdown",
   "metadata": {},
   "source": [
    "코사인 유사도(Cosine Similarity): 두 특성 벡터간의 유사 정도를 코사인 값으로 표현한 것임\n",
    "\n",
    "Cosine Similarity는 −1에서 1까지의 값을 가지며, −1은 서로 완전히 반대되는 경우, 0은 서로 독립적인 경우, 1은 서로 완전히 같은 경우를 의미함\n",
    "\n",
    "x⋅y=|x||y|cosθ\n",
    "cosθ=x⋅y|x||y|"
   ]
  },
  {
   "cell_type": "code",
   "execution_count": 17,
   "metadata": {},
   "outputs": [],
   "source": [
    "def sim_msd(data, name1, name2):\n",
    "    sum = 0\n",
    "    count = 0\n",
    "    for movies in data[name1]:\n",
    "        if movies in data[name2]: #같은 영화를 봤다면\n",
    "            sum += pow(data[name1][movies]- data[name2][movies], 2)\n",
    "            count += 1\n",
    "\n",
    "    return 1 / ( 1 + (sum / count) )"
   ]
  },
  {
   "cell_type": "markdown",
   "metadata": {},
   "source": [
    "## Dave와 Andy의cos유사도 구하기"
   ]
  },
  {
   "cell_type": "code",
   "execution_count": 18,
   "metadata": {},
   "outputs": [],
   "source": [
    "import math\n",
    "def sim_cosine(data, name1, name2):\n",
    "    sum_name1 = 0\n",
    "    sum_name2 = 0\n",
    "    sum_name1_name2 = 0\n",
    "    count = 0\n",
    "    for movies in data[name1]:\n",
    "        if movies in data[name2]: #같은 영화를 봤다면\n",
    "            sum_name1 += pow(data[name1][movies], 2)\n",
    "            sum_name2 += pow(data[name2][movies], 2)\n",
    "            sum_name1_name2 += data[name1][movies]*data[name2][movies]\n",
    "    \n",
    "    return sum_name1_name2 / (math.sqrt(sum_name1)*math.sqrt(sum_name2))\n"
   ]
  },
  {
   "cell_type": "code",
   "execution_count": 20,
   "metadata": {},
   "outputs": [
    {
     "data": {
      "text/plain": [
       "0.7795844649455863"
      ]
     },
     "execution_count": 20,
     "metadata": {},
     "output_type": "execute_result"
    }
   ],
   "source": [
    "sim_cosine(ratings,\"Dave\",\"Andy\")"
   ]
  },
  {
   "cell_type": "markdown",
   "metadata": {},
   "source": [
    "# 3.3. 피어슨 유사도 (Pearson Similarity)"
   ]
  },
  {
   "cell_type": "code",
   "execution_count": 22,
   "metadata": {},
   "outputs": [],
   "source": [
    "def sim_pearson(data, name1, name2):\n",
    "    avg_name1 = 0\n",
    "    avg_name2 = 0\n",
    "    count = 0\n",
    "    for movies in data[name1]:\n",
    "        if movies in data[name2]: #같은 영화를 봤다면\n",
    "            avg_name1 = data[name1][movies]\n",
    "            avg_name2 = data[name2][movies]\n",
    "            count += 1\n",
    "    \n",
    "    avg_name1 = avg_name1 / count\n",
    "    avg_name2 = avg_name2 / count\n",
    "    \n",
    "    sum_name1 = 0\n",
    "    sum_name2 = 0\n",
    "    sum_name1_name2 = 0\n",
    "    count = 0\n",
    "    for movies in data[name1]:\n",
    "        if movies in data[name2]: #같은 영화를 봤다면\n",
    "            sum_name1 += pow(data[name1][movies] - avg_name1, 2)\n",
    "            sum_name2 += pow(data[name2][movies] - avg_name2, 2)\n",
    "            sum_name1_name2 += (data[name1][movies] - avg_name1) * (data[name2][movies] - avg_name2)\n",
    "    \n",
    "    return sum_name1_name2 / (math.sqrt(sum_name1)*math.sqrt(sum_name2))"
   ]
  },
  {
   "cell_type": "code",
   "execution_count": 25,
   "metadata": {},
   "outputs": [
    {
     "data": {
      "text/plain": [
       "0.21664456120656048"
      ]
     },
     "execution_count": 25,
     "metadata": {},
     "output_type": "execute_result"
    }
   ],
   "source": [
    "sim_pearson(ratings, 'Dave','Alex')"
   ]
  },
  {
   "cell_type": "code",
   "execution_count": 26,
   "metadata": {},
   "outputs": [],
   "source": [
    "def top_match(data, name, index=3, sim_function=sim_pearson):\n",
    "    li=[]\n",
    "    for i in data: #딕셔너리를 돌고\n",
    "        if name!=i: #자기 자신이 아닐때만\n",
    "            li.append((sim_function(data,name,i),i)) #sim_function()을 통해 상관계수를 구하고 li[]에 추가\n",
    "    li.sort() #오름차순\n",
    "    li.reverse() #내림차순\n",
    "    return li[:index]"
   ]
  },
  {
   "cell_type": "code",
   "execution_count": 27,
   "metadata": {},
   "outputs": [
    {
     "data": {
      "text/plain": [
       "[(0.868092293129412, 'David'),\n",
       " (0.39840953644479793, 'Andy'),\n",
       " (0.21664456120656048, 'Alex')]"
      ]
     },
     "execution_count": 27,
     "metadata": {},
     "output_type": "execute_result"
    }
   ],
   "source": [
    "top_match(ratings, 'Dave', 3)"
   ]
  },
  {
   "cell_type": "markdown",
   "metadata": {},
   "source": [
    "# top_match를 사용해서 DAVE와 가장 유사한 사용자는?"
   ]
  },
  {
   "cell_type": "code",
   "execution_count": 28,
   "metadata": {},
   "outputs": [
    {
     "data": {
      "text/plain": [
       "[(0.37499999999999994, 'David'), (0.15, 'Andy'), (0.09090909090909091, 'Alex')]"
      ]
     },
     "execution_count": 28,
     "metadata": {},
     "output_type": "execute_result"
    }
   ],
   "source": [
    "top_match(ratings, 'Dave', 3, sim_function=sim_msd)"
   ]
  },
  {
   "cell_type": "code",
   "execution_count": 29,
   "metadata": {},
   "outputs": [
    {
     "data": {
      "text/plain": [
       "[(0.9412416106700233, 'David'),\n",
       " (0.7795844649455863, 'Andy'),\n",
       " (0.6430394361098802, 'Alex')]"
      ]
     },
     "execution_count": 29,
     "metadata": {},
     "output_type": "execute_result"
    }
   ],
   "source": [
    "top_match(ratings, 'Dave', 3, sim_function=sim_cosine)"
   ]
  },
  {
   "cell_type": "code",
   "execution_count": 30,
   "metadata": {},
   "outputs": [
    {
     "data": {
      "text/plain": [
       "[(0.868092293129412, 'David'),\n",
       " (0.39840953644479793, 'Andy'),\n",
       " (0.21664456120656048, 'Alex')]"
      ]
     },
     "execution_count": 30,
     "metadata": {},
     "output_type": "execute_result"
    }
   ],
   "source": [
    "top_match(ratings, 'Dave', 3, sim_function=sim_pearson)"
   ]
  },
  {
   "cell_type": "markdown",
   "metadata": {},
   "source": [
    "## 데이터 분석(추천시스템) - 유사도와 KNN을 활용한 예측 값 계산 및 추천 목록 생성 기법"
   ]
  },
  {
   "cell_type": "markdown",
   "metadata": {},
   "source": [
    "#### 유사도와 KNN을 활용한 예측 값 계산 및 추천 목록 생성 기법"
   ]
  },
  {
   "cell_type": "markdown",
   "metadata": {},
   "source": [
    "##### K Nearest Neighbors(KNN) 가중치 예측 기법\n",
    "\n",
    ": 유사도가 구해지면 평점을 예측하고자 하는 사용자(또는 상품)와 유사도가 큰 k 개의 사용자(또는 상품) 벡터를 사용하여 가중 평균을 구해서 가중치를 예측<br>\n",
    "\n",
    "##### KNNBasic<br>\n",
    "평점들을 단순히 가중 평균한다. 다음 식에서 Nk는 k개의 가장 유사도가 큰 벡터의 집합이다."
   ]
  },
  {
   "cell_type": "code",
   "execution_count": 31,
   "metadata": {},
   "outputs": [],
   "source": [
    "ratings_expand = {\n",
    "    '마동석': {\n",
    "        '택시운전사': 3.5,\n",
    "        '남한산성': 1.5,\n",
    "        '킹스맨:골든서클': 3.0,\n",
    "        '범죄도시': 3.5,\n",
    "        '아이 캔 스피크': 2.5,\n",
    "        '꾼': 3.0,\n",
    "    },\n",
    "    '이정재': {\n",
    "        '택시운전사': 5.0,\n",
    "        '남한산성': 4.5,\n",
    "        '킹스맨:골든서클': 0.5,\n",
    "        '범죄도시': 1.5,\n",
    "        '아이 캔 스피크': 4.5,\n",
    "        '꾼': 5.0,\n",
    "    },\n",
    "    '윤계상': {\n",
    "        '택시운전사': 3.0,\n",
    "        '남한산성': 2.5,\n",
    "        '킹스맨:골든서클': 1.5,\n",
    "        '범죄도시': 3.0,\n",
    "        '꾼': 3.0,\n",
    "        '아이 캔 스피크': 3.5,\n",
    "    },\n",
    "    '설경구': {\n",
    "        '택시운전사': 2.5,\n",
    "        '남한산성': 3.0,\n",
    "        '범죄도시': 4.5,\n",
    "        '꾼': 4.0,\n",
    "    },\n",
    "    '최홍만': {\n",
    "        '남한산성': 4.5,\n",
    "        '킹스맨:골든서클': 3.0,\n",
    "        '꾼': 4.5,\n",
    "        '범죄도시': 3.0,\n",
    "        '아이 캔 스피크': 2.5,\n",
    "    },\n",
    "    '홍수환': {\n",
    "        '택시운전사': 3.0,\n",
    "        '남한산성': 4.0,\n",
    "        '킹스맨:골든서클': 1.0,\n",
    "        '범죄도시': 3.0,\n",
    "        '꾼': 3.5,\n",
    "        '아이 캔 스피크': 2.0,\n",
    "    },\n",
    "    '나원탁': {\n",
    "        '택시운전사': 3.0,\n",
    "        '남한산성': 4.0,\n",
    "        '꾼': 3.0,\n",
    "        '범죄도시': 5.0,\n",
    "        '아이 캔 스피크': 3.5,\n",
    "    },\n",
    "    '소이현': {\n",
    "        '남한산성': 4.5, \n",
    "        '아이 캔 스피크': 1.0,\n",
    "        '범죄도시': 4.0\n",
    "    }\n",
    "}"
   ]
  },
  {
   "cell_type": "code",
   "execution_count": 32,
   "metadata": {},
   "outputs": [],
   "source": [
    "def getRecommendation (data, person, k=3, sim_function=sim_pearson):\n",
    "    \n",
    "    result = top_match(data, person, k)\n",
    "    \n",
    "    score = 0 # 평점 합을 위한 변수\n",
    "    li = list() # 리턴을 위한 리스트\n",
    "    score_dic = dict() # 유사도 총합을 위한 dic\n",
    "    sim_dic = dict() # 평점 총합을 위한 dic\n",
    "\n",
    "    for sim, name in result: # 튜플이므로 한번에\n",
    "        print(sim, name)\n",
    "        if sim < 0 : continue #유사도가 양수인 사람만\n",
    "        for movie in data[name]: \n",
    "            if movie not in data[person]: #name이 평가를 내리지 않은 영화\n",
    "                score += sim * data[name][movie] # 그사람의 영화평점 * 유사도\n",
    "                score_dic.setdefault(movie, 0) # 기본값 설정\n",
    "                score_dic[movie] += score # 합계 구함\n",
    "\n",
    "                # 조건에 맞는 사람의 유사도의 누적합을 구한다\n",
    "                sim_dic.setdefault(movie, 0) \n",
    "                sim_dic[movie] += sim\n",
    "\n",
    "            score = 0  #영화가 바뀌었으니 초기화한다\n",
    "    \n",
    "    for key in score_dic: \n",
    "        score_dic[key] = score_dic[key] / sim_dic[key] # 평점 총합/ 유사도 총합\n",
    "        li.append((score_dic[key],key)) # list((tuple))의 리턴을 위해서.\n",
    "    li.sort() #오름차순\n",
    "    li.reverse() #내림차순\n",
    "    return li"
   ]
  },
  {
   "cell_type": "code",
   "execution_count": 33,
   "metadata": {},
   "outputs": [
    {
     "name": "stdout",
     "output_type": "stream",
     "text": [
      "0.9330597055272909 홍수환\n",
      "0.8909876971472571 최홍만\n",
      "0.8452277090445156 나원탁\n"
     ]
    },
    {
     "data": {
      "text/plain": [
       "[(3.675468553454334, '꾼'),\n",
       " (3.0000000000000004, '택시운전사'),\n",
       " (1.976934805357391, '킹스맨:골든서클')]"
      ]
     },
     "execution_count": 33,
     "metadata": {},
     "output_type": "execute_result"
    }
   ],
   "source": [
    "getRecommendation(ratings_expand, '소이현')"
   ]
  },
  {
   "cell_type": "markdown",
   "metadata": {},
   "source": [
    "* getRecommendation를 사용해서 최홍만 과 가장 유사한 사용자는? \n",
    "* 단 유사도 함수를 sim_cosine, k는 2를 사용하시오"
   ]
  },
  {
   "cell_type": "code",
   "execution_count": 34,
   "metadata": {},
   "outputs": [
    {
     "name": "stdout",
     "output_type": "stream",
     "text": [
      "0.9608329054174726 홍수환\n",
      "0.9517663735117331 소이현\n"
     ]
    },
    {
     "data": {
      "text/plain": [
       "[(3.0, '택시운전사')]"
      ]
     },
     "execution_count": 34,
     "metadata": {},
     "output_type": "execute_result"
    }
   ],
   "source": [
    "getRecommendation(ratings_expand, '최홍만', k=2, sim_function=sim_cosine)"
   ]
  },
  {
   "cell_type": "markdown",
   "metadata": {},
   "source": [
    "### 4.2. KNNWithMeans¶\n",
    "\n",
    "평점들을 평균값 기준으로 가중 평균한다."
   ]
  },
  {
   "cell_type": "code",
   "execution_count": 35,
   "metadata": {},
   "outputs": [],
   "source": [
    "for name in ratings_expand:\n",
    "    sum = 0\n",
    "    count = 0\n",
    "    for movies in ratings_expand[name]:\n",
    "        sum += ratings_expand[name][movies]\n",
    "        count += 1\n",
    "    ratings_expand[name]['avg'] = sum / count"
   ]
  },
  {
   "cell_type": "code",
   "execution_count": 37,
   "metadata": {},
   "outputs": [
    {
     "data": {
      "text/plain": [
       "{'마동석': {'택시운전사': 3.5,\n",
       "  '남한산성': 1.5,\n",
       "  '킹스맨:골든서클': 3.0,\n",
       "  '범죄도시': 3.5,\n",
       "  '아이 캔 스피크': 2.5,\n",
       "  '꾼': 3.0,\n",
       "  'avg': 2.8333333333333335},\n",
       " '이정재': {'택시운전사': 5.0,\n",
       "  '남한산성': 4.5,\n",
       "  '킹스맨:골든서클': 0.5,\n",
       "  '범죄도시': 1.5,\n",
       "  '아이 캔 스피크': 4.5,\n",
       "  '꾼': 5.0,\n",
       "  'avg': 3.5},\n",
       " '윤계상': {'택시운전사': 3.0,\n",
       "  '남한산성': 2.5,\n",
       "  '킹스맨:골든서클': 1.5,\n",
       "  '범죄도시': 3.0,\n",
       "  '꾼': 3.0,\n",
       "  '아이 캔 스피크': 3.5,\n",
       "  'avg': 2.75},\n",
       " '설경구': {'택시운전사': 2.5, '남한산성': 3.0, '범죄도시': 4.5, '꾼': 4.0, 'avg': 3.5},\n",
       " '최홍만': {'남한산성': 4.5,\n",
       "  '킹스맨:골든서클': 3.0,\n",
       "  '꾼': 4.5,\n",
       "  '범죄도시': 3.0,\n",
       "  '아이 캔 스피크': 2.5,\n",
       "  'avg': 3.5},\n",
       " '홍수환': {'택시운전사': 3.0,\n",
       "  '남한산성': 4.0,\n",
       "  '킹스맨:골든서클': 1.0,\n",
       "  '범죄도시': 3.0,\n",
       "  '꾼': 3.5,\n",
       "  '아이 캔 스피크': 2.0,\n",
       "  'avg': 2.75},\n",
       " '나원탁': {'택시운전사': 3.0,\n",
       "  '남한산성': 4.0,\n",
       "  '꾼': 3.0,\n",
       "  '범죄도시': 5.0,\n",
       "  '아이 캔 스피크': 3.5,\n",
       "  'avg': 3.7},\n",
       " '소이현': {'남한산성': 4.5, '아이 캔 스피크': 1.0, '범죄도시': 4.0, 'avg': 3.1666666666666665}}"
      ]
     },
     "execution_count": 37,
     "metadata": {},
     "output_type": "execute_result"
    }
   ],
   "source": [
    "ratings_expand"
   ]
  },
  {
   "cell_type": "code",
   "execution_count": 38,
   "metadata": {},
   "outputs": [],
   "source": [
    "def getRecommendation (data, person, k=3, sim_function=sim_pearson):\n",
    "    \n",
    "    result = top_match(data, person, k)\n",
    "    \n",
    "    score = 0 # 평점 합을 위한 변수\n",
    "    li = list() # 리턴을 위한 리스트\n",
    "    score_dic = dict() # 유사도 총합을 위한 dic\n",
    "    sim_dic = dict() # 평점 총합을 위한 dic\n",
    "\n",
    "    for sim, name in result: # 튜플이므로 한번에\n",
    "        print(sim, name)\n",
    "        if sim < 0 : continue #유사도가 양수인 사람만\n",
    "        for movie in data[name]: \n",
    "            if movie not in data[person]: #name이 평가를 내리지 않은 영화\n",
    "                score += sim * (data[name][movie] - data[name]['avg']) # 그사람의 영화평점 * 유사도\n",
    "                score_dic.setdefault(movie, 0) # 기본값 설정\n",
    "                score_dic[movie] += score # 합계 구함\n",
    "\n",
    "                # 조건에 맞는 사람의 유사도의 누적합을 구한다\n",
    "                sim_dic.setdefault(movie, 0) \n",
    "                sim_dic[movie] += sim\n",
    "\n",
    "            score = 0  #영화가 바뀌었으니 초기화한다\n",
    "    \n",
    "    for key in score_dic: \n",
    "        score_dic[key] = data[person]['avg'] + (score_dic[key] / sim_dic[key]) # 평점 총합/ 유사도 총합\n",
    "        li.append((score_dic[key],key)) # list((tuple))의 리턴을 위해서.\n",
    "    li.sort() #오름차순\n",
    "    li.reverse() #내림차순\n",
    "    return li"
   ]
  },
  {
   "cell_type": "code",
   "execution_count": 39,
   "metadata": {},
   "outputs": [
    {
     "name": "stdout",
     "output_type": "stream",
     "text": [
      "0.9661614876137535 홍수환\n",
      "0.9438405255065262 최홍만\n",
      "0.9437757473484876 설경구\n"
     ]
    },
    {
     "data": {
      "text/plain": [
       "[(3.91667234143915, '꾼'),\n",
       " (2.7989920841776077, '택시운전사'),\n",
       " (2.0343626946178484, '킹스맨:골든서클')]"
      ]
     },
     "execution_count": 39,
     "metadata": {},
     "output_type": "execute_result"
    }
   ],
   "source": [
    "getRecommendation(ratings_expand, '소이현')"
   ]
  },
  {
   "cell_type": "markdown",
   "metadata": {},
   "source": [
    "* getRecommendation를 사용해서 최홍만 과 가장 유사한 사용자는?\n",
    "* 단 유사도 함수를 sim_cosine, k는 2를 사용하시오"
   ]
  },
  {
   "cell_type": "code",
   "execution_count": 41,
   "metadata": {},
   "outputs": [
    {
     "name": "stdout",
     "output_type": "stream",
     "text": [
      "0.9652129842456227 홍수환\n",
      "0.9438405255065262 소이현\n"
     ]
    },
    {
     "data": {
      "text/plain": [
       "[(3.75, '택시운전사')]"
      ]
     },
     "execution_count": 41,
     "metadata": {},
     "output_type": "execute_result"
    }
   ],
   "source": [
    "getRecommendation(ratings_expand, '최홍만', k=2, sim_function=sim_cosine)"
   ]
  },
  {
   "cell_type": "code",
   "execution_count": null,
   "metadata": {},
   "outputs": [],
   "source": []
  }
 ],
 "metadata": {
  "kernelspec": {
   "display_name": "Python 3",
   "language": "python",
   "name": "python3"
  },
  "language_info": {
   "codemirror_mode": {
    "name": "ipython",
    "version": 3
   },
   "file_extension": ".py",
   "mimetype": "text/x-python",
   "name": "python",
   "nbconvert_exporter": "python",
   "pygments_lexer": "ipython3",
   "version": "3.7.3"
  }
 },
 "nbformat": 4,
 "nbformat_minor": 2
}
