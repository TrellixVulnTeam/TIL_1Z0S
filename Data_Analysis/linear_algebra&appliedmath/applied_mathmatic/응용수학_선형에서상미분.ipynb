{
 "cells": [
  {
   "cell_type": "markdown",
   "metadata": {},
   "source": [
    "# Scipy¶"
   ]
  },
  {
   "cell_type": "markdown",
   "metadata": {},
   "source": [
    "선형대수 기본 연산\n",
    "\n",
    "scipy는 거의 항상 numpy와 같이 사용된다.<br>\n",
    "선형대수 연산을 지원하는 scipy.linalg 모듈을 불러온다"
   ]
  },
  {
   "cell_type": "code",
   "execution_count": 1,
   "metadata": {},
   "outputs": [],
   "source": [
    "\n",
    "import numpy as np\n",
    "from scipy.linalg import * "
   ]
  },
  {
   "cell_type": "markdown",
   "metadata": {},
   "source": [
    "행렬은 np.array()함수를 활용한다."
   ]
  },
  {
   "cell_type": "code",
   "execution_count": 2,
   "metadata": {},
   "outputs": [
    {
     "data": {
      "text/plain": [
       "array([[1, 2],\n",
       "       [3, 4]])"
      ]
     },
     "execution_count": 2,
     "metadata": {},
     "output_type": "execute_result"
    }
   ],
   "source": [
    "arr = np.array([[1, 2],[3, 4]])\n",
    "arr\n"
   ]
  },
  {
   "cell_type": "markdown",
   "metadata": {},
   "source": [
    "행렬식의 계산은 det() 함수를 활용한다."
   ]
  },
  {
   "cell_type": "code",
   "execution_count": 3,
   "metadata": {},
   "outputs": [
    {
     "data": {
      "text/plain": [
       "-2.0"
      ]
     },
     "execution_count": 3,
     "metadata": {},
     "output_type": "execute_result"
    }
   ],
   "source": [
    "det(arr)"
   ]
  },
  {
   "cell_type": "markdown",
   "metadata": {},
   "source": [
    "역행렬은 inv()함수를 활용한다."
   ]
  },
  {
   "cell_type": "code",
   "execution_count": 4,
   "metadata": {},
   "outputs": [
    {
     "data": {
      "text/plain": [
       "array([[-2. ,  1. ],\n",
       "       [ 1.5, -0.5]])"
      ]
     },
     "execution_count": 4,
     "metadata": {},
     "output_type": "execute_result"
    }
   ],
   "source": [
    "iarr = inv(arr)\n",
    "iarr"
   ]
  },
  {
   "cell_type": "markdown",
   "metadata": {},
   "source": [
    "행렬의 곱셈은 아래와 같이 작성한다\n",
    "np.dot(A, B)"
   ]
  },
  {
   "cell_type": "code",
   "execution_count": 5,
   "metadata": {},
   "outputs": [
    {
     "data": {
      "text/plain": [
       "array([[1.0000000e+00, 0.0000000e+00],\n",
       "       [8.8817842e-16, 1.0000000e+00]])"
      ]
     },
     "execution_count": 5,
     "metadata": {},
     "output_type": "execute_result"
    }
   ],
   "source": [
    "np.dot( arr, iarr )"
   ]
  },
  {
   "cell_type": "markdown",
   "metadata": {},
   "source": [
    "# 행렬로 연립방정식 풀이"
   ]
  },
  {
   "cell_type": "markdown",
   "metadata": {},
   "source": [
    "아래의 연립방정식을 풀이한다.$$\n",
    "3x + 2y = 2\n",
    "$$$$\n",
    "x - y = 4\n",
    "$$$$\n",
    "5y + z = -1\n",
    "$$"
   ]
  },
  {
   "cell_type": "code",
   "execution_count": 7,
   "metadata": {},
   "outputs": [
    {
     "data": {
      "text/plain": [
       "array([ 2., -2.,  9.])"
      ]
     },
     "execution_count": 7,
     "metadata": {},
     "output_type": "execute_result"
    }
   ],
   "source": [
    "A = np.array([[3, 2, 0], [1, -1, 0], [0, 5, 1]])\n",
    "b = np.array([2, 4, -1])      # 열벡터\n",
    "x = solve(A, b)\n",
    "x"
   ]
  },
  {
   "cell_type": "code",
   "execution_count": 8,
   "metadata": {},
   "outputs": [
    {
     "data": {
      "text/plain": [
       "array([ 2.,  4., -1.])"
      ]
     },
     "execution_count": 8,
     "metadata": {},
     "output_type": "execute_result"
    }
   ],
   "source": [
    "np.dot( A, x )"
   ]
  },
  {
   "cell_type": "markdown",
   "metadata": {},
   "source": [
    "# 비선형 방정식의 해 구하기\n",
    "\n",
    "아래 방정식의 해를 구한다.$$\n",
    "x = e^{-x}\n",
    "$$"
   ]
  },
  {
   "cell_type": "code",
   "execution_count": 10,
   "metadata": {},
   "outputs": [
    {
     "data": {
      "image/png": "[encoded data removed]",
      "text/plain": [
       "<Figure size 432x288 with 1 Axes>"
      ]
     },
     "metadata": {
      "needs_background": "light"
     },
     "output_type": "display_data"
    }
   ],
   "source": [
    "\n",
    "import matplotlib.pyplot as plt\n",
    "%matplotlib inline \n",
    "x = np.linspace(-1,1,101)   \n",
    "y = np.exp( -x )\n",
    "plt.plot( x, y )\n",
    "plt.plot( x, x )\n",
    "plt.show()"
   ]
  },
  {
   "cell_type": "markdown",
   "metadata": {},
   "source": [
    "그래프를 통해서 보면 위와 같다.<br>\n",
    "0.5 근처에서 해가 존재함을 알 수 있다.<br>\n",
    "비선형 방정식을 풀기 위하여 scipy.optimize 모듈을 불러온다<br>"
   ]
  },
  {
   "cell_type": "code",
   "execution_count": 11,
   "metadata": {},
   "outputs": [],
   "source": [
    "from math import *                    # 일반적인 수학 함수를 사용하려면 필요하다.\n",
    "from scipy.optimize import fsolve     # fsolve( ) 함수를 도입한다."
   ]
  },
  {
   "cell_type": "markdown",
   "metadata": {},
   "source": [
    "방정식을 f(x) = 0 형태로 하여 함수로 정의한다."
   ]
  },
  {
   "cell_type": "code",
   "execution_count": 12,
   "metadata": {},
   "outputs": [],
   "source": [
    "def f(x):\n",
    "    return x - exp(-x)"
   ]
  },
  {
   "cell_type": "code",
   "execution_count": 13,
   "metadata": {},
   "outputs": [
    {
     "data": {
      "text/plain": [
       "array([0.56714329])"
      ]
     },
     "execution_count": 13,
     "metadata": {},
     "output_type": "execute_result"
    }
   ],
   "source": [
    "fsolve( f, 0.5 )"
   ]
  },
  {
   "cell_type": "markdown",
   "metadata": {},
   "source": [
    "# 함수의 최소값"
   ]
  },
  {
   "cell_type": "markdown",
   "metadata": {},
   "source": [
    "scipt.optimize모듈의 fmin_bfgz()함수로 최소값을 구한다."
   ]
  },
  {
   "cell_type": "code",
   "execution_count": 15,
   "metadata": {},
   "outputs": [],
   "source": [
    "\n",
    "from scipy.optimize import fmin_bfgs"
   ]
  },
  {
   "cell_type": "markdown",
   "metadata": {},
   "source": [
    "아래 식의 최소값을 구한다.$$\n",
    "f(x) = x^2 + 10sin(x)\n",
    "$$\n",
    "파이썬 함수로 정의한 후 함수의 형태를 그래프로 그려본다."
   ]
  },
  {
   "cell_type": "code",
   "execution_count": 16,
   "metadata": {},
   "outputs": [
    {
     "data": {
      "image/png": "[encoded data removed]",
      "text/plain": [
       "<Figure size 432x288 with 1 Axes>"
      ]
     },
     "metadata": {
      "needs_background": "light"
     },
     "output_type": "display_data"
    }
   ],
   "source": [
    "def f(x):\n",
    "    return x**2 + 10*np.sin(x)\n",
    "\n",
    "x = np.arange(-10, 10, 0.1)\n",
    "plt.plot(x, f(x))\n",
    "plt.show()"
   ]
  },
  {
   "cell_type": "markdown",
   "metadata": {},
   "source": [
    "fmin_bfgs()함수의 인자로 최소화할 함수의 이름과 x의 시작점을 넘겨준다."
   ]
  },
  {
   "cell_type": "code",
   "execution_count": 18,
   "metadata": {},
   "outputs": [
    {
     "name": "stdout",
     "output_type": "stream",
     "text": [
      "Optimization terminated successfully.\n",
      "         Current function value: -7.945823\n",
      "         Iterations: 5\n",
      "         Function evaluations: 18\n",
      "         Gradient evaluations: 6\n"
     ]
    },
    {
     "data": {
      "text/plain": [
       "array([-1.30644012])"
      ]
     },
     "execution_count": 18,
     "metadata": {},
     "output_type": "execute_result"
    }
   ],
   "source": [
    "fmin_bfgs( f, 0 )"
   ]
  },
  {
   "cell_type": "markdown",
   "metadata": {},
   "source": [
    "fmin_bfgs() 함수는 국부 최소점을 찾는 기능만 있으므로, 초기값에 따라 결과가 달라질 수 있다.\n",
    "x=3을 시작점으로 하면 아래와 같다."
   ]
  },
  {
   "cell_type": "markdown",
   "metadata": {},
   "source": [
    "# 수치 적분"
   ]
  },
  {
   "cell_type": "markdown",
   "metadata": {},
   "source": [
    "scipy.integrate 모듈의 quad() 함수를 이용하여 수치 적분을 계산한다.\n",
    "아래 정적분을 계산한다.$$\n",
    "\\int_{0}^{1}x^2dx\n",
    "$$"
   ]
  },
  {
   "cell_type": "code",
   "execution_count": 19,
   "metadata": {},
   "outputs": [
    {
     "data": {
      "text/plain": [
       "(0.33333333333333337, 3.700743415417189e-15)"
      ]
     },
     "execution_count": 19,
     "metadata": {},
     "output_type": "execute_result"
    }
   ],
   "source": [
    "from scipy.integrate import quad\n",
    "def f(x):\n",
    "    return x*x\n",
    "quad( f, 0, 1 )"
   ]
  },
  {
   "cell_type": "markdown",
   "metadata": {},
   "source": [
    "첫번째 반환값이 수치적분의 결과값<br>\n",
    "두번째 반환값은 추정오차이다.<br>\n",
    "피적분 함수를 numpy를 함수를 활용한 수학식으로 표현할 수 있다.<br>\n",
    "exp(-x)를 0부터 무한대까지 적분하는 코드는 아래와 같다.<br>"
   ]
  },
  {
   "cell_type": "code",
   "execution_count": 20,
   "metadata": {},
   "outputs": [
    {
     "name": "stdout",
     "output_type": "stream",
     "text": [
      "1.0000000000000002\n"
     ]
    }
   ],
   "source": [
    "def f(x):\n",
    "    return np.exp(-x)\n",
    "F, err = quad( f, 0, np.inf )\n",
    "print(F)"
   ]
  },
  {
   "cell_type": "markdown",
   "metadata": {},
   "source": [
    "# 선형 회귀법: 최소제곱법¶"
   ]
  },
  {
   "cell_type": "markdown",
   "metadata": {},
   "source": [
    "scipy.stats 모듈의 linregress(x, y)함수를 사용하여 회귀 직선의 기울기와 절편을 구할 수 있따."
   ]
  },
  {
   "cell_type": "code",
   "execution_count": 21,
   "metadata": {},
   "outputs": [
    {
     "name": "stdout",
     "output_type": "stream",
     "text": [
      "slope =    2.040\n",
      "intercept =    0.020\n"
     ]
    }
   ],
   "source": [
    "import numpy as np\n",
    "from scipy.stats import linregress\n",
    "\n",
    "x = np.linspace(0, 4, 5)\n",
    "y = [ 0, 2.1, 4.2, 5.9, 8.3 ] \n",
    "slope, intercept, r_value, p_value, std_err = linregress(x, y)\n",
    "\n",
    "print(\"slope = %8.3f\" % slope)\n",
    "print(\"intercept = %8.3f\" % intercept)"
   ]
  },
  {
   "cell_type": "markdown",
   "metadata": {},
   "source": [
    "회귀 직선과 데이터를 그려서 비교한다."
   ]
  },
  {
   "cell_type": "code",
   "execution_count": 22,
   "metadata": {},
   "outputs": [
    {
     "data": {
      "image/png": "[encoded data removed]",
      "text/plain": [
       "<Figure size 432x288 with 1 Axes>"
      ]
     },
     "metadata": {
      "needs_background": "light"
     },
     "output_type": "display_data"
    }
   ],
   "source": [
    "yfit = intercept + slope * x  \n",
    "\n",
    "plt.plot(x, y, 'o', label='data')\n",
    "plt.plot(x, yfit, 'r', label='fitted line')\n",
    "plt.legend()\n",
    "plt.xlabel('x')\n",
    "plt.ylabel('y')\n",
    "plt.show()"
   ]
  },
  {
   "cell_type": "markdown",
   "metadata": {},
   "source": [
    "# 비선형 회귀법: Levenberg-Marquardt 알고리즘"
   ]
  },
  {
   "cell_type": "markdown",
   "metadata": {},
   "source": [
    "아래 주어진 데이터를 비선형 회귀법으로 얻는 예제이다."
   ]
  },
  {
   "cell_type": "code",
   "execution_count": 23,
   "metadata": {},
   "outputs": [
    {
     "data": {
      "text/plain": [
       "[<matplotlib.lines.Line2D at 0x63617d0>]"
      ]
     },
     "execution_count": 23,
     "metadata": {},
     "output_type": "execute_result"
    },
    {
     "data": {
      "image/png": "[encoded data removed]",
      "text/plain": [
       "<Figure size 432x288 with 1 Axes>"
      ]
     },
     "metadata": {
      "needs_background": "light"
     },
     "output_type": "display_data"
    }
   ],
   "source": [
    "ndata = 101\n",
    "\n",
    "x = np.linspace(-5,5,ndata)\n",
    "y = 0.6*x + 5* np.exp(-0.2* x**2 ) + np.random.rand(ndata) \n",
    "plt.plot(x,y,'o')"
   ]
  },
  {
   "cell_type": "markdown",
   "metadata": {},
   "source": [
    "Levenberg-Marquardt 알고리즘을 사용하여 최적의 곡선을 구한다.\n",
    "scipy.optimize 모듈의 curve_fit()함수를 이용한다.\n",
    "원하는 형태의 곡선에 대한 수식을 함수로 정의한다.\n",
    "함수의 수식을 표현할 떄, numpy 함수를 사용한다.$$\n",
    "y = a x + b e^{-c  x^2}\n",
    "$$\n",
    "위와 같이 가정하며, a, b, c는 비선형 회귀에 의해 결정될 값이다."
   ]
  },
  {
   "cell_type": "code",
   "execution_count": 25,
   "metadata": {},
   "outputs": [],
   "source": [
    "# non-linear least square method using Levenberg-Marquardt algorithm  \n",
    "from scipy.optimize import curve_fit\n",
    "\n",
    "def func(x, a, b, c):\n",
    "    return a*x + b*np.exp(-c* x**2 )"
   ]
  },
  {
   "cell_type": "markdown",
   "metadata": {},
   "source": [
    "변수의 초기값을 설정하고 curve_fit 함수를 호출한다.\n",
    "첫번째로 반환되는 변수 popt가 최적화된 변수에 대한 리스트이다."
   ]
  },
  {
   "cell_type": "code",
   "execution_count": 26,
   "metadata": {},
   "outputs": [
    {
     "name": "stdout",
     "output_type": "stream",
     "text": [
      "[0.59648259 5.36721719 0.15113667]\n"
     ]
    }
   ],
   "source": [
    "p0ini = [0, 0, 0]            # initial values of parameters for fitting function\n",
    "popt, pcov = curve_fit( func, x, y, p0 = p0ini )      \n",
    "\n",
    "print( popt )"
   ]
  },
  {
   "cell_type": "markdown",
   "metadata": {},
   "source": [
    "구해진 변수로 최적화된 곡선을 예측하고, 원래의 데이터와 비교한다."
   ]
  },
  {
   "cell_type": "code",
   "execution_count": 27,
   "metadata": {},
   "outputs": [
    {
     "data": {
      "image/png": "[encoded data removed]",
      "text/plain": [
       "<Figure size 432x288 with 1 Axes>"
      ]
     },
     "metadata": {
      "needs_background": "light"
     },
     "output_type": "display_data"
    }
   ],
   "source": [
    "yfit = func( x, *popt )       # 매개변수를 함수의 인자 a, b, c 로 전달하여 계산한다.\n",
    "\n",
    "plt.plot( x, y, 'o', label='data')\n",
    "plt.plot( x, yfit, 'r', label='fitted curve')\n",
    "plt.legend()\n",
    "plt.xlabel('x')\n",
    "plt.ylabel('y')\n",
    "plt.show()"
   ]
  },
  {
   "cell_type": "markdown",
   "metadata": {},
   "source": [
    "# 상미분 방정식: 초기값 문제"
   ]
  },
  {
   "cell_type": "markdown",
   "metadata": {},
   "source": [
    "scipy.integrate 모듈의 solve_ivp() 함수를 이용하여 상미분방정식의 초기값문제에 대한 수치해를 얻을 수 있다."
   ]
  },
  {
   "cell_type": "code",
   "execution_count": 29,
   "metadata": {},
   "outputs": [],
   "source": [
    "from scipy.integrate import solve_ivp"
   ]
  },
  {
   "cell_type": "markdown",
   "metadata": {},
   "source": [
    "아래와 같은 일계 상미분방정식의 수치해를 구하는 경우를 실습한다.$$\n",
    "\\frac{dy}{dt}=0.5y\n",
    "$$\n",
    "도함수를 함수 형식으로 정의한다."
   ]
  },
  {
   "cell_type": "code",
   "execution_count": 31,
   "metadata": {},
   "outputs": [],
   "source": [
    "\n",
    "def dydt(t, y) : \n",
    "    return -0.5 * y"
   ]
  },
  {
   "cell_type": "markdown",
   "metadata": {},
   "source": [
    "초기값 y(0) = 1 에 대하여, t = 10까지 수치해를 구한다."
   ]
  },
  {
   "cell_type": "code",
   "execution_count": 32,
   "metadata": {},
   "outputs": [],
   "source": [
    "t0 = 0\n",
    "tend = 10\n",
    "y0 = 1\n",
    "\n",
    "sol = solve_ivp( dydt, (t0, tend), (y0,), t_eval=np.linspace(t0,tend,21) )"
   ]
  },
  {
   "cell_type": "markdown",
   "metadata": {},
   "source": [
    "초기값이 하나인 경우에도 입력 인자는 튜플이다.\n",
    "인자 t_eval은 선택사항으로, 수치해가 계산될 t의 간격을 명시할 수 있다.\n",
    "결과가 반환된 변수 sol에서 y와 방정식의 해 y는 아래와 같이 얻어진다."
   ]
  },
  {
   "cell_type": "code",
   "execution_count": 33,
   "metadata": {},
   "outputs": [
    {
     "data": {
      "text/plain": [
       "array([ 0. ,  0.5,  1. ,  1.5,  2. ,  2.5,  3. ,  3.5,  4. ,  4.5,  5. ,\n",
       "        5.5,  6. ,  6.5,  7. ,  7.5,  8. ,  8.5,  9. ,  9.5, 10. ])"
      ]
     },
     "execution_count": 33,
     "metadata": {},
     "output_type": "execute_result"
    }
   ],
   "source": [
    "sol.t"
   ]
  },
  {
   "cell_type": "code",
   "execution_count": 34,
   "metadata": {},
   "outputs": [
    {
     "data": {
      "text/plain": [
       "array([[1.        , 0.77877121, 0.60652683, 0.47231798, 0.36766997,\n",
       "        0.28642722, 0.22325718, 0.17381699, 0.13533366, 0.10546992,\n",
       "        0.08217585, 0.06396748, 0.04982315, 0.03883629, 0.03024224,\n",
       "        0.0235437 , 0.01834532, 0.01429687, 0.01113201, 0.00867035,\n",
       "        0.0067547 ]])"
      ]
     },
     "execution_count": 34,
     "metadata": {},
     "output_type": "execute_result"
    }
   ],
   "source": [
    "sol.y"
   ]
  },
  {
   "cell_type": "code",
   "execution_count": 35,
   "metadata": {},
   "outputs": [
    {
     "data": {
      "image/png": "[encoded data removed]",
      "text/plain": [
       "<Figure size 432x288 with 1 Axes>"
      ]
     },
     "metadata": {
      "needs_background": "light"
     },
     "output_type": "display_data"
    }
   ],
   "source": [
    "plt.plot( sol.t, sol.y[0] )\n",
    "plt.xlabel('t')\n",
    "plt.ylabel('y')\n",
    "plt.show()"
   ]
  },
  {
   "cell_type": "markdown",
   "metadata": {},
   "source": [
    "# 이계 상미분방정식\n"
   ]
  },
  {
   "cell_type": "markdown",
   "metadata": {},
   "source": [
    "아래 이계 미분방정식을 푸는 예제이다.$$\n",
    "y''+2y'+2y=cos(2t)\n",
    "$$$$\n",
    "y(0) = 0\n",
    "$$$$\n",
    "y'(0) = 0\n",
    "$$\n",
    "이계 미분방정식은 연립 일계 미분방정식으로 변환할 수 있다.\n",
    "아래와 같이 치환하도록 한다.$$\n",
    "v(t) = y'(t)\n",
    "$$\n",
    "최종적으로 아래와 같이 바꿀 수 있다.$$\n",
    "v' + 2v + 2y = cos(2)\n",
    "$$$$y(0) = 0\n",
    "$$$$v(0) = 0\n",
    "$$"
   ]
  },
  {
   "cell_type": "code",
   "execution_count": 36,
   "metadata": {},
   "outputs": [],
   "source": [
    "def dYdt( t, Y ) :                              # Y[0] = y(t), Y[1] = v(t)\n",
    "    return  Y[1], -2*Y[1]-2*Y[0]+np.cos(2*t)    # y'(t), v'(t)\n",
    "\n",
    "# 초기값\n",
    "Y0 = ( 0, 0 )      # y(0)  v(0)\n",
    "\n",
    "t0 = 0\n",
    "tend = 10\n",
    "\n",
    "sol = solve_ivp( dYdt, (t0, tend), Y0, t_eval=np.linspace(t0,tend,101) )"
   ]
  },
  {
   "cell_type": "code",
   "execution_count": 37,
   "metadata": {},
   "outputs": [
    {
     "data": {
      "image/png": "[encoded data removed]",
      "text/plain": [
       "<Figure size 432x288 with 1 Axes>"
      ]
     },
     "metadata": {
      "needs_background": "light"
     },
     "output_type": "display_data"
    }
   ],
   "source": [
    "plt.plot( sol.t, sol.y[0] )\n",
    "plt.xlabel('t')\n",
    "plt.ylabel('y')\n",
    "plt.show()"
   ]
  },
  {
   "cell_type": "markdown",
   "metadata": {},
   "source": [
    "# 과제\n",
    "\n",
    "6번\n",
    "파일 - 새 Python3 노트를 통해 새 노트북을 만드시오.\n",
    "아래 작성된 코드 셀을 복사한 후 ## FIXME ## 부분을 수정하여 감쇠진동 상미분방정식의 그래프를 plot하시오.\n",
    "감쇠진동 상미분방정식\n",
    "$$\n",
    "4x'' + 1x' + 4x = 0\n",
    "$$$$\n",
    "x(0) = 0\n",
    "$$$$\n",
    "x'(0) = 0\n",
    "$$\n",
    "위와 같을 떄 t = 0부터 t = 20까지의 위치를 그래프로 그리시오."
   ]
  },
  {
   "cell_type": "code",
   "execution_count": 39,
   "metadata": {},
   "outputs": [
    {
     "data": {
      "image/png": "[encoded data removed]",
      "text/plain": [
       "<Figure size 432x288 with 1 Axes>"
      ]
     },
     "metadata": {
      "needs_background": "light"
     },
     "output_type": "display_data"
    }
   ],
   "source": [
    "def dXdt( t, X ) : # X[0]= x(t) , X[1]=v(t)                              \n",
    "    return  X[1], -X[0]-(X[1]/4) # x'(t),v'(t)\n",
    "\n",
    "# 초기값\n",
    "X0 = ( 10, 0 ) \n",
    "\n",
    "t0 = 0\n",
    "tend = 20\n",
    "\n",
    "sol = solve_ivp( dXdt, (t0, tend), X0, t_eval=np.linspace(t0,tend,101) )\n",
    "plt.plot( sol.t, sol.y[0] )\n",
    "plt.xlabel('t')\n",
    "plt.ylabel('y')\n",
    "plt.show()"
   ]
  },
  {
   "cell_type": "code",
   "execution_count": null,
   "metadata": {},
   "outputs": [],
   "source": []
  }
 ],
 "metadata": {
  "kernelspec": {
   "display_name": "Python 3",
   "language": "python",
   "name": "python3"
  },
  "language_info": {
   "codemirror_mode": {
    "name": "ipython",
    "version": 3
   },
   "file_extension": ".py",
   "mimetype": "text/x-python",
   "name": "python",
   "nbconvert_exporter": "python",
   "pygments_lexer": "ipython3",
   "version": "3.7.3"
  }
 },
 "nbformat": 4,
 "nbformat_minor": 2
}
