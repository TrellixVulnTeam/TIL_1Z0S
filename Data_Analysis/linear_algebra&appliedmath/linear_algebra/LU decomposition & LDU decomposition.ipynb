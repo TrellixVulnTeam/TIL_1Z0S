{
 "cells": [
  {
   "cell_type": "markdown",
   "metadata": {},
   "source": [
    "# LU분해 및 LDU분해"
   ]
  },
  {
   "cell_type": "code",
   "execution_count": null,
   "metadata": {},
   "outputs": [],
   "source": []
  },
  {
   "attachments": {
    "image.png": {
     "image/png": "[encoded data removed]"
    }
   },
   "cell_type": "markdown",
   "metadata": {},
   "source": [
    "![image.png](attachment:image.png)\n"
   ]
  },
  {
   "cell_type": "code",
   "execution_count": 6,
   "metadata": {},
   "outputs": [],
   "source": [
    "import pprint\n",
    "import scipy\n",
    "import scipy.linalg\n",
    "import pprint"
   ]
  },
  {
   "cell_type": "code",
   "execution_count": 2,
   "metadata": {},
   "outputs": [],
   "source": [
    "A = scipy.array([ [7, 3, -1, 2], [3, 8, 1, -4], [-1, 1, 4, -1], [2, -4, -1, 6] ])\n",
    "P, L, U = scipy.linalg.lu(A)"
   ]
  },
  {
   "cell_type": "code",
   "execution_count": 3,
   "metadata": {},
   "outputs": [
    {
     "data": {
      "text/plain": [
       "array([[1., 0., 0., 0.],\n",
       "       [0., 1., 0., 0.],\n",
       "       [0., 0., 1., 0.],\n",
       "       [0., 0., 0., 1.]])"
      ]
     },
     "execution_count": 3,
     "metadata": {},
     "output_type": "execute_result"
    }
   ],
   "source": [
    "P"
   ]
  },
  {
   "cell_type": "code",
   "execution_count": 4,
   "metadata": {},
   "outputs": [
    {
     "data": {
      "text/plain": [
       "array([[ 1.        ,  0.        ,  0.        ,  0.        ],\n",
       "       [ 0.42857143,  1.        ,  0.        ,  0.        ],\n",
       "       [-0.14285714,  0.21276596,  1.        ,  0.        ],\n",
       "       [ 0.28571429, -0.72340426,  0.08982036,  1.        ]])"
      ]
     },
     "execution_count": 4,
     "metadata": {},
     "output_type": "execute_result"
    }
   ],
   "source": [
    "L"
   ]
  },
  {
   "cell_type": "code",
   "execution_count": 5,
   "metadata": {},
   "outputs": [
    {
     "data": {
      "text/plain": [
       "array([[ 7.        ,  3.        , -1.        ,  2.        ],\n",
       "       [ 0.        ,  6.71428571,  1.42857143, -4.85714286],\n",
       "       [ 0.        ,  0.        ,  3.55319149,  0.31914894],\n",
       "       [ 0.        ,  0.        ,  0.        ,  1.88622754]])"
      ]
     },
     "execution_count": 5,
     "metadata": {},
     "output_type": "execute_result"
    }
   ],
   "source": [
    "U"
   ]
  },
  {
   "cell_type": "code",
   "execution_count": 43,
   "metadata": {},
   "outputs": [
    {
     "name": "stdout",
     "output_type": "stream",
     "text": [
      "Lower Triangular\t\tUpper Triangular\n",
      "1\t0\t0\t\t2\t-1\t-2\t\n",
      "-2\t1\t0\t\t0\t4\t-1\t\n",
      "-2\t-1\t1\t\t0\t0\t3\t\n"
     ]
    }
   ],
   "source": [
    "def luDecomposition(mat, n):\n",
    "    lower = [[0 for x in range(n)]  \n",
    "                for y in range(n)]; \n",
    "    upper = [[0 for x in range(n)]  \n",
    "                for y in range(n)]; \n",
    "                  \n",
    "    # Decomposing matrix into Upper  \n",
    "    # and Lower triangular matrix \n",
    "    for i in range(n): \n",
    "  \n",
    "        # Upper Triangular \n",
    "        for k in range(i, n):  \n",
    "  \n",
    "            # Summation of L(i, j) * U(j, k) \n",
    "            sum = 0; \n",
    "            for j in range(i): \n",
    "                sum += (lower[i][j] * upper[j][k]); \n",
    "  \n",
    "            # Evaluating U(i, k) \n",
    "            upper[i][k] = mat[i][k] - sum; \n",
    "  \n",
    "        # Lower Triangular \n",
    "        for k in range(i, n): \n",
    "            if (i == k): \n",
    "                lower[i][i] = 1; # Diagonal as 1 \n",
    "            else: \n",
    "  \n",
    "                # Summation of L(k, j) * U(j, i) \n",
    "                sum = 0; \n",
    "                for j in range(i): \n",
    "                    sum += (lower[k][j] * upper[j][i]); \n",
    "  \n",
    "                # Evaluating L(k, i) \n",
    "                lower[k][i] = int((mat[k][i] - sum) /\n",
    "                                       upper[i][i]); \n",
    "  \n",
    "    # setw is for displaying nicely \n",
    "    print(\"Lower Triangular\\t\\tUpper Triangular\"); \n",
    "  \n",
    "    # Displaying the result : \n",
    "    for i in range(n): \n",
    "          \n",
    "        # Lower \n",
    "        for j in range(n): \n",
    "            print(lower[i][j], end = \"\\t\");  \n",
    "        print(\"\", end = \"\\t\"); \n",
    "  \n",
    "        # Upper \n",
    "        for j in range(n): \n",
    "            print(upper[i][j], end = \"\\t\"); \n",
    "        print(\"\"); \n",
    "  \n",
    "# Driver code \n",
    "mat = [[2, -1, -2], \n",
    "       [-4, 6, 3], \n",
    "       [-4, -2, 8]]; \n",
    "  \n",
    "luDecomposition(mat, 3); \n",
    "  \n",
    "# This code is contributed by mits \n",
    "    "
   ]
  },
  {
   "cell_type": "code",
   "execution_count": null,
   "metadata": {},
   "outputs": [],
   "source": []
  }
 ],
 "metadata": {
  "kernelspec": {
   "display_name": "Python 3",
   "language": "python",
   "name": "python3"
  },
  "language_info": {
   "codemirror_mode": {
    "name": "ipython",
    "version": 3
   },
   "file_extension": ".py",
   "mimetype": "text/x-python",
   "name": "python",
   "nbconvert_exporter": "python",
   "pygments_lexer": "ipython3",
   "version": "3.7.3"
  }
 },
 "nbformat": 4,
 "nbformat_minor": 2
}
